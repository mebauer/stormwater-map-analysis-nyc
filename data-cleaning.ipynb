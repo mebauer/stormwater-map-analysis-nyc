{
 "cells": [
  {
   "cell_type": "markdown",
   "id": "understanding-hierarchy",
   "metadata": {},
   "source": [
    "# Analyzing NYC's Stormwater Flood Map - Extreme Flood Scenario\n",
    "## Data Cleaning\n",
    "\n",
    "Mark Bauer"
   ]
  },
  {
   "cell_type": "code",
   "execution_count": 1,
   "id": "ahead-burlington",
   "metadata": {},
   "outputs": [],
   "source": [
    "import numpy as np\n",
    "import pandas as pd\n",
    "import geopandas as gpd\n",
    "import seaborn as sns\n",
    "import matplotlib.pyplot as plt\n",
    "import urllib.request\n",
    "import zipfile \n",
    "import matplotlib.patches as mpatches\n",
    "import contextily as ctx\n",
    "\n",
    "plt.rcParams['savefig.facecolor'] = 'white'\n",
    "%matplotlib inline"
   ]
  },
  {
   "cell_type": "code",
   "execution_count": 2,
   "id": "medium-german",
   "metadata": {},
   "outputs": [
    {
     "name": "stdout",
     "output_type": "stream",
     "text": [
      "Python implementation: CPython\n",
      "Python version       : 3.8.13\n",
      "IPython version      : 8.4.0\n",
      "\n",
      "numpy     : 1.22.4\n",
      "pandas    : 1.4.2\n",
      "seaborn   : 0.11.2\n",
      "matplotlib: 3.5.2\n",
      "geopandas : 0.9.0\n",
      "\n"
     ]
    }
   ],
   "source": [
    "%reload_ext watermark\n",
    "%watermark -v -p numpy,pandas,seaborn,matplotlib,geopandas"
   ]
  },
  {
   "cell_type": "markdown",
   "id": "1afd5340",
   "metadata": {},
   "source": [
    "![nyc-opendata-dashboard](images/nyc-opendata-dashboard.png)\n",
    "\n",
    "Source: https://data.cityofnewyork.us/City-Government/NYC-Stormwater-Flood-Map-Extreme-Flood-with-2080-S/w8eg-8ha6"
   ]
  },
  {
   "cell_type": "code",
   "execution_count": 3,
   "id": "intelligent-winner",
   "metadata": {},
   "outputs": [
    {
     "name": "stdout",
     "output_type": "stream",
     "text": [
      "stormwater-data-nyc.zip\r\n"
     ]
    }
   ],
   "source": [
    "# download data from nyc open data using urllib\n",
    "\n",
    "# url path from the web\n",
    "url = 'https://data.cityofnewyork.us/download/w8eg-8ha6/application%2Fzip'\n",
    "file_name = 'data/stormwater-data-nyc.zip'\n",
    "\n",
    "# assigning file name as 'stormwater-data-nyc.zip''\n",
    "urllib.request.urlretrieve(url, file_name)\n",
    "\n",
    "%ls data/"
   ]
  },
  {
   "cell_type": "code",
   "execution_count": 4,
   "id": "vertical-breakfast",
   "metadata": {
    "scrolled": true
   },
   "outputs": [
    {
     "name": "stdout",
     "output_type": "stream",
     "text": [
      "\u001b[34mNYC Stormwater Flood Map - Extreme Flood with 2080 Sea Level Rise.gdb\u001b[m\u001b[m/\r\n",
      "NYC Stormwater Flood Map - Extreme Flood with 2080 Sea Level Rise.xlsx\r\n"
     ]
    }
   ],
   "source": [
    "path = 'data/stormwater-data-nyc.zip'\n",
    "directory = 'data/stormwater-data-source'\n",
    "\n",
    "# extracting items in zip folder\n",
    "with zipfile.ZipFile(path, 'r') as file:\n",
    "    # extracing all items in our zipfile\n",
    "    file.extractall(directory)\n",
    "\n",
    "%ls data/stormwater-data-source/    "
   ]
  },
  {
   "cell_type": "code",
   "execution_count": 5,
   "id": "5926d712",
   "metadata": {},
   "outputs": [
    {
     "name": "stdout",
     "output_type": "stream",
     "text": [
      "CONTRIBUTING.md\r\n",
      "LICENSE\r\n",
      "NYC Stormwater Flood Map - Extreme Flood with 2080 Sea Level Rise.xlsx\r\n",
      "README.md\r\n",
      "analysis.ipynb\r\n",
      "\u001b[34mdata\u001b[m\u001b[m/\r\n",
      "data-cleaning.ipynb\r\n",
      "\u001b[34mfigures\u001b[m\u001b[m/\r\n",
      "\u001b[34mimages\u001b[m\u001b[m/\r\n"
     ]
    }
   ],
   "source": [
    "# copy data dictionary to top-level repository directory\n",
    "!cp 'data/stormwater-data-source/NYC Stormwater Flood Map - Extreme Flood with 2080 Sea Level Rise.xlsx' .\n",
    "\n",
    "%ls"
   ]
  },
  {
   "cell_type": "code",
   "execution_count": 6,
   "id": "illegal-violin",
   "metadata": {},
   "outputs": [
    {
     "name": "stdout",
     "output_type": "stream",
     "text": [
      "shape of data: (3, 4)\n"
     ]
    },
    {
     "data": {
      "text/html": [
       "<div>\n",
       "<style scoped>\n",
       "    .dataframe tbody tr th:only-of-type {\n",
       "        vertical-align: middle;\n",
       "    }\n",
       "\n",
       "    .dataframe tbody tr th {\n",
       "        vertical-align: top;\n",
       "    }\n",
       "\n",
       "    .dataframe thead th {\n",
       "        text-align: right;\n",
       "    }\n",
       "</style>\n",
       "<table border=\"1\" class=\"dataframe\">\n",
       "  <thead>\n",
       "    <tr style=\"text-align: right;\">\n",
       "      <th></th>\n",
       "      <th>Flooding_Category</th>\n",
       "      <th>Shape_Length</th>\n",
       "      <th>Shape_Area</th>\n",
       "      <th>geometry</th>\n",
       "    </tr>\n",
       "  </thead>\n",
       "  <tbody>\n",
       "    <tr>\n",
       "      <th>0</th>\n",
       "      <td>1</td>\n",
       "      <td>3.264384e+07</td>\n",
       "      <td>3.972152e+08</td>\n",
       "      <td>MULTIPOLYGON Z (((917206.497 120931.611 0.000,...</td>\n",
       "    </tr>\n",
       "    <tr>\n",
       "      <th>1</th>\n",
       "      <td>2</td>\n",
       "      <td>1.656489e+07</td>\n",
       "      <td>3.054550e+08</td>\n",
       "      <td>MULTIPOLYGON Z (((917270.790 120873.747 0.000,...</td>\n",
       "    </tr>\n",
       "    <tr>\n",
       "      <th>2</th>\n",
       "      <td>3</td>\n",
       "      <td>8.042525e+06</td>\n",
       "      <td>3.455846e+08</td>\n",
       "      <td>MULTIPOLYGON Z (((915290.556 120269.389 0.000,...</td>\n",
       "    </tr>\n",
       "  </tbody>\n",
       "</table>\n",
       "</div>"
      ],
      "text/plain": [
       "   Flooding_Category  Shape_Length    Shape_Area  \\\n",
       "0                  1  3.264384e+07  3.972152e+08   \n",
       "1                  2  1.656489e+07  3.054550e+08   \n",
       "2                  3  8.042525e+06  3.455846e+08   \n",
       "\n",
       "                                            geometry  \n",
       "0  MULTIPOLYGON Z (((917206.497 120931.611 0.000,...  \n",
       "1  MULTIPOLYGON Z (((917270.790 120873.747 0.000,...  \n",
       "2  MULTIPOLYGON Z (((915290.556 120269.389 0.000,...  "
      ]
     },
     "execution_count": 6,
     "metadata": {},
     "output_type": "execute_result"
    }
   ],
   "source": [
    "# reading in data\n",
    "path = 'data/stormwater-data-source/NYC Stormwater Flood Map - Extreme Flood with 2080 Sea Level Rise.gdb'\n",
    "gdf = gpd.read_file(path)\n",
    "\n",
    "print('shape of data: {}'.format(gdf.shape))\n",
    "gdf.head()"
   ]
  },
  {
   "cell_type": "code",
   "execution_count": 7,
   "id": "honest-senate",
   "metadata": {},
   "outputs": [
    {
     "name": "stdout",
     "output_type": "stream",
     "text": [
      "<class 'geopandas.geodataframe.GeoDataFrame'>\n",
      "RangeIndex: 3 entries, 0 to 2\n",
      "Data columns (total 4 columns):\n",
      " #   Column             Non-Null Count  Dtype   \n",
      "---  ------             --------------  -----   \n",
      " 0   Flooding_Category  3 non-null      int64   \n",
      " 1   Shape_Length       3 non-null      float64 \n",
      " 2   Shape_Area         3 non-null      float64 \n",
      " 3   geometry           3 non-null      geometry\n",
      "dtypes: float64(2), geometry(1), int64(1)\n",
      "memory usage: 224.0 bytes\n"
     ]
    }
   ],
   "source": [
    "# summary of the data\n",
    "gdf.info()"
   ]
  },
  {
   "cell_type": "code",
   "execution_count": 8,
   "id": "recent-fellow",
   "metadata": {},
   "outputs": [
    {
     "data": {
      "text/plain": [
       "<Derived Projected CRS: EPSG:2263>\n",
       "Name: NAD83 / New York Long Island (ftUS)\n",
       "Axis Info [cartesian]:\n",
       "- X[east]: Easting (US survey foot)\n",
       "- Y[north]: Northing (US survey foot)\n",
       "Area of Use:\n",
       "- name: United States (USA) - New York - counties of Bronx; Kings; Nassau; New York; Queens; Richmond; Suffolk.\n",
       "- bounds: (-74.26, 40.47, -71.8, 41.3)\n",
       "Coordinate Operation:\n",
       "- name: SPCS83 New York Long Island zone (US Survey feet)\n",
       "- method: Lambert Conic Conformal (2SP)\n",
       "Datum: North American Datum 1983\n",
       "- Ellipsoid: GRS 1980\n",
       "- Prime Meridian: Greenwich"
      ]
     },
     "execution_count": 8,
     "metadata": {},
     "output_type": "execute_result"
    }
   ],
   "source": [
    "# examine crs\n",
    "gdf.crs"
   ]
  },
  {
   "cell_type": "code",
   "execution_count": 9,
   "id": "received-pottery",
   "metadata": {},
   "outputs": [
    {
     "data": {
      "text/plain": [
       "<AxesSubplot:>"
      ]
     },
     "execution_count": 9,
     "metadata": {},
     "output_type": "execute_result"
    },
    {
     "data": {
      "image/png": "[encoded data removed]",
      "text/plain": [
       "<Figure size 432x288 with 1 Axes>"
      ]
     },
     "metadata": {
      "needs_background": "light"
     },
     "output_type": "display_data"
    }
   ],
   "source": [
    "# examine plot\n",
    "gdf.plot()"
   ]
  },
  {
   "cell_type": "code",
   "execution_count": 10,
   "id": "5fe14f32",
   "metadata": {},
   "outputs": [
    {
     "data": {
      "text/html": [
       "<div>\n",
       "<style scoped>\n",
       "    .dataframe tbody tr th:only-of-type {\n",
       "        vertical-align: middle;\n",
       "    }\n",
       "\n",
       "    .dataframe tbody tr th {\n",
       "        vertical-align: top;\n",
       "    }\n",
       "\n",
       "    .dataframe thead th {\n",
       "        text-align: right;\n",
       "    }\n",
       "</style>\n",
       "<table border=\"1\" class=\"dataframe\">\n",
       "  <thead>\n",
       "    <tr style=\"text-align: right;\">\n",
       "      <th></th>\n",
       "      <th>Flooding_Category</th>\n",
       "      <th>Shape_Length</th>\n",
       "      <th>Shape_Area</th>\n",
       "      <th>geometry</th>\n",
       "    </tr>\n",
       "  </thead>\n",
       "  <tbody>\n",
       "    <tr>\n",
       "      <th>0</th>\n",
       "      <td>1</td>\n",
       "      <td>3.264384e+07</td>\n",
       "      <td>3.972152e+08</td>\n",
       "      <td>MULTIPOLYGON Z (((917206.497 120931.611 0.000,...</td>\n",
       "    </tr>\n",
       "    <tr>\n",
       "      <th>1</th>\n",
       "      <td>2</td>\n",
       "      <td>1.656489e+07</td>\n",
       "      <td>3.054550e+08</td>\n",
       "      <td>MULTIPOLYGON Z (((917270.790 120873.747 0.000,...</td>\n",
       "    </tr>\n",
       "    <tr>\n",
       "      <th>2</th>\n",
       "      <td>3</td>\n",
       "      <td>8.042525e+06</td>\n",
       "      <td>3.455846e+08</td>\n",
       "      <td>MULTIPOLYGON Z (((915290.556 120269.389 0.000,...</td>\n",
       "    </tr>\n",
       "  </tbody>\n",
       "</table>\n",
       "</div>"
      ],
      "text/plain": [
       "   Flooding_Category  Shape_Length    Shape_Area  \\\n",
       "0                  1  3.264384e+07  3.972152e+08   \n",
       "1                  2  1.656489e+07  3.054550e+08   \n",
       "2                  3  8.042525e+06  3.455846e+08   \n",
       "\n",
       "                                            geometry  \n",
       "0  MULTIPOLYGON Z (((917206.497 120931.611 0.000,...  \n",
       "1  MULTIPOLYGON Z (((917270.790 120873.747 0.000,...  \n",
       "2  MULTIPOLYGON Z (((915290.556 120269.389 0.000,...  "
      ]
     },
     "execution_count": 10,
     "metadata": {},
     "output_type": "execute_result"
    }
   ],
   "source": [
    "# examine flood category codes\n",
    "gdf.head()"
   ]
  },
  {
   "cell_type": "markdown",
   "id": "elegant-trouble",
   "metadata": {},
   "source": [
    "Flooding_Category\t\n",
    "Category of flooding classified by depth of ponding or tidal inundation from sea level rise\n",
    "\n",
    ">1 - Nuisance Flooding (greater or equal to 4 in. and less than 1 ft.)  \n",
    "2 - Deep and Contiguous Flooding (1 ft. and greater)  \n",
    "3 - Future High Tides 2080"
   ]
  },
  {
   "cell_type": "code",
   "execution_count": 11,
   "id": "defined-projector",
   "metadata": {},
   "outputs": [
    {
     "name": "stdout",
     "output_type": "stream",
     "text": [
      "shape of data: (3, 5)\n"
     ]
    },
    {
     "data": {
      "text/html": [
       "<div>\n",
       "<style scoped>\n",
       "    .dataframe tbody tr th:only-of-type {\n",
       "        vertical-align: middle;\n",
       "    }\n",
       "\n",
       "    .dataframe tbody tr th {\n",
       "        vertical-align: top;\n",
       "    }\n",
       "\n",
       "    .dataframe thead th {\n",
       "        text-align: right;\n",
       "    }\n",
       "</style>\n",
       "<table border=\"1\" class=\"dataframe\">\n",
       "  <thead>\n",
       "    <tr style=\"text-align: right;\">\n",
       "      <th></th>\n",
       "      <th>Flooding_Category</th>\n",
       "      <th>Shape_Length</th>\n",
       "      <th>Shape_Area</th>\n",
       "      <th>geometry</th>\n",
       "      <th>flood_classification</th>\n",
       "    </tr>\n",
       "  </thead>\n",
       "  <tbody>\n",
       "    <tr>\n",
       "      <th>0</th>\n",
       "      <td>1</td>\n",
       "      <td>3.264384e+07</td>\n",
       "      <td>3.972152e+08</td>\n",
       "      <td>MULTIPOLYGON Z (((917206.497 120931.611 0.000,...</td>\n",
       "      <td>Nuisance Flooding</td>\n",
       "    </tr>\n",
       "    <tr>\n",
       "      <th>1</th>\n",
       "      <td>2</td>\n",
       "      <td>1.656489e+07</td>\n",
       "      <td>3.054550e+08</td>\n",
       "      <td>MULTIPOLYGON Z (((917270.790 120873.747 0.000,...</td>\n",
       "      <td>Deep and Contiguous Flooding</td>\n",
       "    </tr>\n",
       "    <tr>\n",
       "      <th>2</th>\n",
       "      <td>3</td>\n",
       "      <td>8.042525e+06</td>\n",
       "      <td>3.455846e+08</td>\n",
       "      <td>MULTIPOLYGON Z (((915290.556 120269.389 0.000,...</td>\n",
       "      <td>Future High Tides 2080</td>\n",
       "    </tr>\n",
       "  </tbody>\n",
       "</table>\n",
       "</div>"
      ],
      "text/plain": [
       "   Flooding_Category  Shape_Length    Shape_Area  \\\n",
       "0                  1  3.264384e+07  3.972152e+08   \n",
       "1                  2  1.656489e+07  3.054550e+08   \n",
       "2                  3  8.042525e+06  3.455846e+08   \n",
       "\n",
       "                                            geometry  \\\n",
       "0  MULTIPOLYGON Z (((917206.497 120931.611 0.000,...   \n",
       "1  MULTIPOLYGON Z (((917270.790 120873.747 0.000,...   \n",
       "2  MULTIPOLYGON Z (((915290.556 120269.389 0.000,...   \n",
       "\n",
       "           flood_classification  \n",
       "0             Nuisance Flooding  \n",
       "1  Deep and Contiguous Flooding  \n",
       "2        Future High Tides 2080  "
      ]
     },
     "execution_count": 11,
     "metadata": {},
     "output_type": "execute_result"
    }
   ],
   "source": [
    "# mapping flood category codes to classifications\n",
    "gdf['flood_classification'] = (\n",
    "    gdf['Flooding_Category'].replace(\n",
    "        {1:'Nuisance Flooding',\n",
    "         2:'Deep and Contiguous Flooding',\n",
    "         3:'Future High Tides 2080'})\n",
    ")\n",
    "\n",
    "print('shape of data: {}'.format(gdf.shape))\n",
    "gdf.head()"
   ]
  },
  {
   "cell_type": "code",
   "execution_count": 12,
   "id": "pressing-trash",
   "metadata": {},
   "outputs": [
    {
     "data": {
      "text/plain": [
       "0    MultiPolygon\n",
       "1    MultiPolygon\n",
       "2    MultiPolygon\n",
       "dtype: object"
      ]
     },
     "execution_count": 12,
     "metadata": {},
     "output_type": "execute_result"
    }
   ],
   "source": [
    "# examine geometries\n",
    "gdf['geometry'].geom_type"
   ]
  },
  {
   "cell_type": "code",
   "execution_count": 13,
   "id": "wrapped-jacket",
   "metadata": {},
   "outputs": [
    {
     "name": "stdout",
     "output_type": "stream",
     "text": [
      "shape of data: (145429, 5)\n"
     ]
    },
    {
     "data": {
      "text/html": [
       "<div>\n",
       "<style scoped>\n",
       "    .dataframe tbody tr th:only-of-type {\n",
       "        vertical-align: middle;\n",
       "    }\n",
       "\n",
       "    .dataframe tbody tr th {\n",
       "        vertical-align: top;\n",
       "    }\n",
       "\n",
       "    .dataframe thead th {\n",
       "        text-align: right;\n",
       "    }\n",
       "</style>\n",
       "<table border=\"1\" class=\"dataframe\">\n",
       "  <thead>\n",
       "    <tr style=\"text-align: right;\">\n",
       "      <th></th>\n",
       "      <th>Flooding_Category</th>\n",
       "      <th>Shape_Length</th>\n",
       "      <th>Shape_Area</th>\n",
       "      <th>flood_classification</th>\n",
       "      <th>geometry</th>\n",
       "    </tr>\n",
       "  </thead>\n",
       "  <tbody>\n",
       "    <tr>\n",
       "      <th>0</th>\n",
       "      <td>1</td>\n",
       "      <td>51.436905</td>\n",
       "      <td>165.359700</td>\n",
       "      <td>Nuisance Flooding</td>\n",
       "      <td>POLYGON Z ((917206.497 120931.611 0.000, 91720...</td>\n",
       "    </tr>\n",
       "    <tr>\n",
       "      <th>1</th>\n",
       "      <td>1</td>\n",
       "      <td>37.622059</td>\n",
       "      <td>79.460913</td>\n",
       "      <td>Nuisance Flooding</td>\n",
       "      <td>POLYGON Z ((917309.366 120950.899 0.000, 91730...</td>\n",
       "    </tr>\n",
       "    <tr>\n",
       "      <th>2</th>\n",
       "      <td>1</td>\n",
       "      <td>14.432754</td>\n",
       "      <td>4.925173</td>\n",
       "      <td>Nuisance Flooding</td>\n",
       "      <td>POLYGON Z ((917309.366 120950.899 0.000, 91730...</td>\n",
       "    </tr>\n",
       "    <tr>\n",
       "      <th>3</th>\n",
       "      <td>1</td>\n",
       "      <td>54.817201</td>\n",
       "      <td>154.010850</td>\n",
       "      <td>Nuisance Flooding</td>\n",
       "      <td>POLYGON Z ((917277.219 120938.040 0.000, 91726...</td>\n",
       "    </tr>\n",
       "    <tr>\n",
       "      <th>4</th>\n",
       "      <td>1</td>\n",
       "      <td>24.392395</td>\n",
       "      <td>14.030167</td>\n",
       "      <td>Nuisance Flooding</td>\n",
       "      <td>POLYGON Z ((917311.973 120963.757 0.000, 91730...</td>\n",
       "    </tr>\n",
       "  </tbody>\n",
       "</table>\n",
       "</div>"
      ],
      "text/plain": [
       "   Flooding_Category  Shape_Length  Shape_Area flood_classification  \\\n",
       "0                  1     51.436905  165.359700    Nuisance Flooding   \n",
       "1                  1     37.622059   79.460913    Nuisance Flooding   \n",
       "2                  1     14.432754    4.925173    Nuisance Flooding   \n",
       "3                  1     54.817201  154.010850    Nuisance Flooding   \n",
       "4                  1     24.392395   14.030167    Nuisance Flooding   \n",
       "\n",
       "                                            geometry  \n",
       "0  POLYGON Z ((917206.497 120931.611 0.000, 91720...  \n",
       "1  POLYGON Z ((917309.366 120950.899 0.000, 91730...  \n",
       "2  POLYGON Z ((917309.366 120950.899 0.000, 91730...  \n",
       "3  POLYGON Z ((917277.219 120938.040 0.000, 91726...  \n",
       "4  POLYGON Z ((917311.973 120963.757 0.000, 91730...  "
      ]
     },
     "execution_count": 13,
     "metadata": {},
     "output_type": "execute_result"
    }
   ],
   "source": [
    "# explode dictionary so every row is a polygon\n",
    "gdf = (\n",
    "    gdf\n",
    "    .explode()\n",
    "    .reset_index(drop=True)\n",
    ")\n",
    "\n",
    "# calculating are and length of geometries\n",
    "gdf['Shape_Area'] = gdf.area \n",
    "gdf['Shape_Length'] = gdf.length \n",
    "\n",
    "print('shape of data: {}'.format(gdf.shape))\n",
    "gdf.head()"
   ]
  },
  {
   "cell_type": "code",
   "execution_count": 14,
   "id": "valuable-saver",
   "metadata": {},
   "outputs": [
    {
     "data": {
      "text/html": [
       "<div>\n",
       "<style scoped>\n",
       "    .dataframe tbody tr th:only-of-type {\n",
       "        vertical-align: middle;\n",
       "    }\n",
       "\n",
       "    .dataframe tbody tr th {\n",
       "        vertical-align: top;\n",
       "    }\n",
       "\n",
       "    .dataframe thead th {\n",
       "        text-align: right;\n",
       "    }\n",
       "</style>\n",
       "<table border=\"1\" class=\"dataframe\">\n",
       "  <thead>\n",
       "    <tr style=\"text-align: right;\">\n",
       "      <th></th>\n",
       "      <th>count_polygons</th>\n",
       "    </tr>\n",
       "    <tr>\n",
       "      <th>flood_classification</th>\n",
       "      <th></th>\n",
       "    </tr>\n",
       "  </thead>\n",
       "  <tbody>\n",
       "    <tr>\n",
       "      <th>Deep and Contiguous Flooding</th>\n",
       "      <td>39742</td>\n",
       "    </tr>\n",
       "    <tr>\n",
       "      <th>Future High Tides 2080</th>\n",
       "      <td>7122</td>\n",
       "    </tr>\n",
       "    <tr>\n",
       "      <th>Nuisance Flooding</th>\n",
       "      <td>98565</td>\n",
       "    </tr>\n",
       "  </tbody>\n",
       "</table>\n",
       "</div>"
      ],
      "text/plain": [
       "                              count_polygons\n",
       "flood_classification                        \n",
       "Deep and Contiguous Flooding           39742\n",
       "Future High Tides 2080                  7122\n",
       "Nuisance Flooding                      98565"
      ]
     },
     "execution_count": 14,
     "metadata": {},
     "output_type": "execute_result"
    }
   ],
   "source": [
    "# examine count of polygons by flood classifications\n",
    "(gdf\n",
    " .groupby(by='flood_classification')[['flood_classification']]\n",
    " .count()\n",
    " .rename(columns={'flood_classification':'count_polygons'})\n",
    ")"
   ]
  },
  {
   "cell_type": "code",
   "execution_count": 15,
   "id": "7b8a1870",
   "metadata": {},
   "outputs": [
    {
     "data": {
      "text/html": [
       "<div>\n",
       "<style scoped>\n",
       "    .dataframe tbody tr th:only-of-type {\n",
       "        vertical-align: middle;\n",
       "    }\n",
       "\n",
       "    .dataframe tbody tr th {\n",
       "        vertical-align: top;\n",
       "    }\n",
       "\n",
       "    .dataframe thead th {\n",
       "        text-align: right;\n",
       "    }\n",
       "</style>\n",
       "<table border=\"1\" class=\"dataframe\">\n",
       "  <thead>\n",
       "    <tr style=\"text-align: right;\">\n",
       "      <th></th>\n",
       "      <th>shape_area_acres</th>\n",
       "    </tr>\n",
       "    <tr>\n",
       "      <th>flood_classification</th>\n",
       "      <th></th>\n",
       "    </tr>\n",
       "  </thead>\n",
       "  <tbody>\n",
       "    <tr>\n",
       "      <th>Deep and Contiguous Flooding</th>\n",
       "      <td>7012</td>\n",
       "    </tr>\n",
       "    <tr>\n",
       "      <th>Future High Tides 2080</th>\n",
       "      <td>7934</td>\n",
       "    </tr>\n",
       "    <tr>\n",
       "      <th>Nuisance Flooding</th>\n",
       "      <td>9119</td>\n",
       "    </tr>\n",
       "  </tbody>\n",
       "</table>\n",
       "</div>"
      ],
      "text/plain": [
       "                              shape_area_acres\n",
       "flood_classification                          \n",
       "Deep and Contiguous Flooding              7012\n",
       "Future High Tides 2080                    7934\n",
       "Nuisance Flooding                         9119"
      ]
     },
     "execution_count": 15,
     "metadata": {},
     "output_type": "execute_result"
    }
   ],
   "source": [
    "# examine flooded area by flood classifications\n",
    "\n",
    "acres_conversion = 43560\n",
    "\n",
    "(gdf\n",
    " .groupby(by='flood_classification')[['Shape_Area']]\n",
    " .sum()\n",
    " .div(acres_conversion)\n",
    " .round(0)\n",
    " .astype(int)\n",
    " .rename(columns={'Shape_Area':'shape_area_acres'})\n",
    ")"
   ]
  },
  {
   "cell_type": "code",
   "execution_count": 16,
   "id": "8a24e1d8",
   "metadata": {},
   "outputs": [
    {
     "name": "stdout",
     "output_type": "stream",
     "text": [
      "stormwater-data-nyc.zip  \u001b[34mstormwater-data-source\u001b[m\u001b[m/  stormwater-data.gpkg\r\n"
     ]
    }
   ],
   "source": [
    "# save file\n",
    "gdf.to_file(\n",
    "    'data/stormwater-data.gpkg',\n",
    "    driver='GPKG',\n",
    "    layer='name',\n",
    "    index=False\n",
    ")\n",
    "\n",
    "%ls data/"
   ]
  },
  {
   "cell_type": "code",
   "execution_count": 17,
   "id": "f467f100",
   "metadata": {},
   "outputs": [
    {
     "name": "stdout",
     "output_type": "stream",
     "text": [
      "  adding: data/stormwater-data.gpkg (deflated 62%)\n",
      "stormwater-data-nyc.zip  stormwater-data.gpkg\n",
      "\u001b[34mstormwater-data-source\u001b[m\u001b[m/  stormwater-data.zip\n"
     ]
    }
   ],
   "source": [
    "# zip .gpkg into zip folder\n",
    "!zip data/stormwater-data.zip data/stormwater-data.gpkg\n",
    "\n",
    "%ls data/"
   ]
  },
  {
   "cell_type": "code",
   "execution_count": 18,
   "id": "d8f13728",
   "metadata": {},
   "outputs": [
    {
     "name": "stdout",
     "output_type": "stream",
     "text": [
      "\u001b[34mstormwater-data-source\u001b[m\u001b[m/ stormwater-data.zip\r\n"
     ]
    }
   ],
   "source": [
    "# remove copies of data to save storage\n",
    "!rm data/stormwater-data.gpkg data/stormwater-data-nyc.zip\n",
    "\n",
    "%ls data/"
   ]
  },
  {
   "cell_type": "code",
   "execution_count": null,
   "id": "31b32ed8",
   "metadata": {},
   "outputs": [],
   "source": []
  }
 ],
 "metadata": {
  "kernelspec": {
   "display_name": "Python 3 (ipykernel)",
   "language": "python",
   "name": "python3"
  },
  "language_info": {
   "codemirror_mode": {
    "name": "ipython",
    "version": 3
   },
   "file_extension": ".py",
   "mimetype": "text/x-python",
   "name": "python",
   "nbconvert_exporter": "python",
   "pygments_lexer": "ipython3",
   "version": "3.8.13"
  }
 },
 "nbformat": 4,
 "nbformat_minor": 5
}
