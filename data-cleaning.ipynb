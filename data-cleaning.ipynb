{
 "cells": [
  {
   "cell_type": "markdown",
   "id": "understanding-hierarchy",
   "metadata": {},
   "source": [
    "# Analyzing NYC's Stormwater Flood Map - Extreme Flood Scenario\n",
    "## Objective: Data Cleaning, Inspection and Removing Polygons Less Than 0.25 Acres\n",
    "Note: I'm only examining flood polygons greater than or equal to 0.25 acres for this project.\n",
    "\n",
    "Mark Bauer"
   ]
  },
  {
   "cell_type": "code",
   "execution_count": 1,
   "id": "ahead-burlington",
   "metadata": {},
   "outputs": [],
   "source": [
    "import numpy as np\n",
    "import pandas as pd\n",
    "import geopandas as gpd\n",
    "import seaborn as sns\n",
    "import matplotlib.pyplot as plt\n",
    "import urllib.request\n",
    "import zipfile \n",
    "import matplotlib.patches as mpatches\n",
    "import contextily as ctx\n",
    "\n",
    "plt.rcParams['savefig.facecolor'] = 'white'\n",
    "%matplotlib inline"
   ]
  },
  {
   "cell_type": "markdown",
   "id": "1de1fc4b",
   "metadata": {},
   "source": [
    "An IPython magic extension for printing date and time stamps, version numbers, and hardware information.  \n",
    "Source: https://github.com/rasbt/watermark"
   ]
  },
  {
   "cell_type": "code",
   "execution_count": 2,
   "id": "medium-german",
   "metadata": {},
   "outputs": [
    {
     "name": "stdout",
     "output_type": "stream",
     "text": [
      "Python implementation: CPython\n",
      "Python version       : 3.8.13\n",
      "IPython version      : 8.4.0\n",
      "\n",
      "numpy     : 1.23.1\n",
      "pandas    : 1.4.3\n",
      "seaborn   : 0.11.2\n",
      "matplotlib: 3.5.2\n",
      "geopandas : 0.11.1\n",
      "\n"
     ]
    }
   ],
   "source": [
    "%reload_ext watermark\n",
    "%watermark -v -p numpy,pandas,seaborn,matplotlib,geopandas"
   ]
  },
  {
   "cell_type": "markdown",
   "id": "1afd5340",
   "metadata": {},
   "source": [
    "![nyc-opendata-dashboard](images/nyc-opendata-dashboard.png)\n",
    "\n",
    "Screenshot of the data on NYC Open Data.  \n",
    "Source: https://data.cityofnewyork.us/City-Government/NYC-Stormwater-Flood-Map-Extreme-Flood-with-2080-S/w8eg-8ha6"
   ]
  },
  {
   "attachments": {},
   "cell_type": "markdown",
   "id": "e3618d7b",
   "metadata": {},
   "source": [
    "![data-description](images/data-description.png)\n",
    "\n",
    "Screenshot of data description.  \n",
    "Source: https://data.cityofnewyork.us/City-Government/NYC-Stormwater-Flood-Map-Extreme-Flood-with-2080-S/w8eg-8ha6"
   ]
  },
  {
   "cell_type": "code",
   "execution_count": 4,
   "id": "intelligent-winner",
   "metadata": {},
   "outputs": [
    {
     "name": "stdout",
     "output_type": "stream",
     "text": [
      "buildings-hazard.csv     nta-hazard.csv           \u001b[34mstormwater-data-source\u001b[m\u001b[m/\r\n",
      "daily-precipitation.csv  stormwater-data-nyc.zip  stormwater-data.zip\r\n"
     ]
    }
   ],
   "source": [
    "# download data from nyc open data using urllib package\n",
    "\n",
    "# url path from the web\n",
    "url = 'https://data.cityofnewyork.us/download/w8eg-8ha6/application%2Fzip'\n",
    "file_name = 'data/stormwater-data-nyc.zip'\n",
    "\n",
    "# assigning file name as 'stormwater-data-nyc.zip''\n",
    "urllib.request.urlretrieve(url, file_name)\n",
    "\n",
    "# sanity check of data\n",
    "%ls data/"
   ]
  },
  {
   "cell_type": "code",
   "execution_count": 5,
   "id": "vertical-breakfast",
   "metadata": {
    "scrolled": true
   },
   "outputs": [
    {
     "name": "stdout",
     "output_type": "stream",
     "text": [
      "\u001b[34mNYC Stormwater Flood Map - Extreme Flood with 2080 Sea Level Rise.gdb\u001b[m\u001b[m/\r\n",
      "NYC Stormwater Flood Map - Extreme Flood with 2080 Sea Level Rise.xlsx\r\n"
     ]
    }
   ],
   "source": [
    "path = 'data/stormwater-data-nyc.zip'\n",
    "directory = 'data/stormwater-data-source'\n",
    "\n",
    "# open zip file\n",
    "with zipfile.ZipFile(path, 'r') as file:\n",
    "    # extracting all items in our zipfile\n",
    "    file.extractall(directory)\n",
    "\n",
    "# list items\n",
    "%ls data/stormwater-data-source/    "
   ]
  },
  {
   "cell_type": "code",
   "execution_count": 6,
   "id": "5926d712",
   "metadata": {},
   "outputs": [
    {
     "name": "stdout",
     "output_type": "stream",
     "text": [
      "CONTRIBUTING.md\r\n",
      "LICENSE\r\n",
      "NYC Stormwater Flood Map - Extreme Flood with 2080 Sea Level Rise.xlsx\r\n",
      "README.md\r\n",
      "analysis.ipynb\r\n",
      "\u001b[34mdata\u001b[m\u001b[m/\r\n",
      "data-cleaning.ipynb\r\n",
      "\u001b[34mfigures\u001b[m\u001b[m/\r\n",
      "\u001b[34mimages\u001b[m\u001b[m/\r\n",
      "precipitation-data.ipynb\r\n",
      "spatial-joins.ipynb\r\n"
     ]
    }
   ],
   "source": [
    "# copy data dictionary to top-level directory\n",
    "!cp 'data/stormwater-data-source/NYC Stormwater Flood Map - Extreme Flood with 2080 Sea Level Rise.xlsx' .\n",
    "\n",
    "# sanity check of data dictionary\n",
    "%ls"
   ]
  },
  {
   "cell_type": "code",
   "execution_count": 7,
   "id": "illegal-violin",
   "metadata": {},
   "outputs": [
    {
     "name": "stdout",
     "output_type": "stream",
     "text": [
      "shape of data: (3, 4)\n"
     ]
    },
    {
     "data": {
      "text/html": [
       "<div>\n",
       "<style scoped>\n",
       "    .dataframe tbody tr th:only-of-type {\n",
       "        vertical-align: middle;\n",
       "    }\n",
       "\n",
       "    .dataframe tbody tr th {\n",
       "        vertical-align: top;\n",
       "    }\n",
       "\n",
       "    .dataframe thead th {\n",
       "        text-align: right;\n",
       "    }\n",
       "</style>\n",
       "<table border=\"1\" class=\"dataframe\">\n",
       "  <thead>\n",
       "    <tr style=\"text-align: right;\">\n",
       "      <th></th>\n",
       "      <th>Flooding_Category</th>\n",
       "      <th>Shape_Length</th>\n",
       "      <th>Shape_Area</th>\n",
       "      <th>geometry</th>\n",
       "    </tr>\n",
       "  </thead>\n",
       "  <tbody>\n",
       "    <tr>\n",
       "      <th>0</th>\n",
       "      <td>1</td>\n",
       "      <td>3.264384e+07</td>\n",
       "      <td>3.972152e+08</td>\n",
       "      <td>MULTIPOLYGON Z (((917206.497 120931.611 0.000,...</td>\n",
       "    </tr>\n",
       "    <tr>\n",
       "      <th>1</th>\n",
       "      <td>2</td>\n",
       "      <td>1.656489e+07</td>\n",
       "      <td>3.054550e+08</td>\n",
       "      <td>MULTIPOLYGON Z (((917270.790 120873.747 0.000,...</td>\n",
       "    </tr>\n",
       "    <tr>\n",
       "      <th>2</th>\n",
       "      <td>3</td>\n",
       "      <td>8.042525e+06</td>\n",
       "      <td>3.455846e+08</td>\n",
       "      <td>MULTIPOLYGON Z (((915290.556 120269.389 0.000,...</td>\n",
       "    </tr>\n",
       "  </tbody>\n",
       "</table>\n",
       "</div>"
      ],
      "text/plain": [
       "   Flooding_Category  Shape_Length    Shape_Area  \\\n",
       "0                  1  3.264384e+07  3.972152e+08   \n",
       "1                  2  1.656489e+07  3.054550e+08   \n",
       "2                  3  8.042525e+06  3.455846e+08   \n",
       "\n",
       "                                            geometry  \n",
       "0  MULTIPOLYGON Z (((917206.497 120931.611 0.000,...  \n",
       "1  MULTIPOLYGON Z (((917270.790 120873.747 0.000,...  \n",
       "2  MULTIPOLYGON Z (((915290.556 120269.389 0.000,...  "
      ]
     },
     "execution_count": 7,
     "metadata": {},
     "output_type": "execute_result"
    }
   ],
   "source": [
    "# reading in data\n",
    "path = 'data/stormwater-data-source/NYC Stormwater Flood Map - Extreme Flood with 2080 Sea Level Rise.gdb'\n",
    "gdf = gpd.read_file(path)\n",
    "\n",
    "# sanity check\n",
    "print('shape of data: {}'.format(gdf.shape))\n",
    "gdf.head()"
   ]
  },
  {
   "cell_type": "markdown",
   "id": "e7f4a8a2",
   "metadata": {},
   "source": [
    "The data is grouped by flood category. To have each row as an individual polygon, we need to explode these nested values into separate rows per polygon."
   ]
  },
  {
   "cell_type": "markdown",
   "id": "fea61c82",
   "metadata": {},
   "source": [
    "![data-dictionary](images/data-dictionary.png)\n",
    "\n",
    "Screenshot of data dictionary."
   ]
  },
  {
   "cell_type": "code",
   "execution_count": 8,
   "id": "honest-senate",
   "metadata": {},
   "outputs": [
    {
     "name": "stdout",
     "output_type": "stream",
     "text": [
      "<class 'geopandas.geodataframe.GeoDataFrame'>\n",
      "RangeIndex: 3 entries, 0 to 2\n",
      "Data columns (total 4 columns):\n",
      " #   Column             Non-Null Count  Dtype   \n",
      "---  ------             --------------  -----   \n",
      " 0   Flooding_Category  3 non-null      int64   \n",
      " 1   Shape_Length       3 non-null      float64 \n",
      " 2   Shape_Area         3 non-null      float64 \n",
      " 3   geometry           3 non-null      geometry\n",
      "dtypes: float64(2), geometry(1), int64(1)\n",
      "memory usage: 224.0 bytes\n"
     ]
    }
   ],
   "source": [
    "# summary of the data\n",
    "gdf.info()"
   ]
  },
  {
   "cell_type": "code",
   "execution_count": 9,
   "id": "recent-fellow",
   "metadata": {},
   "outputs": [
    {
     "data": {
      "text/plain": [
       "<Derived Projected CRS: EPSG:2263>\n",
       "Name: NAD83 / New York Long Island (ftUS)\n",
       "Axis Info [cartesian]:\n",
       "- X[east]: Easting (US survey foot)\n",
       "- Y[north]: Northing (US survey foot)\n",
       "Area of Use:\n",
       "- name: United States (USA) - New York - counties of Bronx; Kings; Nassau; New York; Queens; Richmond; Suffolk.\n",
       "- bounds: (-74.26, 40.47, -71.8, 41.3)\n",
       "Coordinate Operation:\n",
       "- name: SPCS83 New York Long Island zone (US Survey feet)\n",
       "- method: Lambert Conic Conformal (2SP)\n",
       "Datum: North American Datum 1983\n",
       "- Ellipsoid: GRS 1980\n",
       "- Prime Meridian: Greenwich"
      ]
     },
     "execution_count": 9,
     "metadata": {},
     "output_type": "execute_result"
    }
   ],
   "source": [
    "# examine crs\n",
    "gdf.crs"
   ]
  },
  {
   "cell_type": "code",
   "execution_count": 10,
   "id": "65364088",
   "metadata": {},
   "outputs": [
    {
     "data": {
      "text/plain": [
       "0    MultiPolygon\n",
       "1    MultiPolygon\n",
       "2    MultiPolygon\n",
       "dtype: object"
      ]
     },
     "execution_count": 10,
     "metadata": {},
     "output_type": "execute_result"
    }
   ],
   "source": [
    "# examine geom types\n",
    "gdf.geom_type"
   ]
  },
  {
   "cell_type": "code",
   "execution_count": 11,
   "id": "received-pottery",
   "metadata": {},
   "outputs": [
    {
     "data": {
      "text/plain": [
       "<AxesSubplot:>"
      ]
     },
     "execution_count": 11,
     "metadata": {},
     "output_type": "execute_result"
    },
    {
     "data": {
      "image/png": "[encoded data removed]",
      "text/plain": [
       "<Figure size 432x288 with 1 Axes>"
      ]
     },
     "metadata": {
      "needs_background": "light"
     },
     "output_type": "display_data"
    }
   ],
   "source": [
    "# examine plot\n",
    "gdf.plot()"
   ]
  },
  {
   "cell_type": "markdown",
   "id": "elegant-trouble",
   "metadata": {},
   "source": [
    "`Flooding_Category`: Category of flooding classified by depth of ponding or tidal inundation from sea level rise.\n",
    "\n",
    "\n",
    ">1 - Nuisance Flooding (greater or equal to 4 in. and less than 1 ft.)  \n",
    ">2 - Deep and Contiguous Flooding (1 ft. and greater)  \n",
    ">3 - Future High Tides 2080\n",
    "\n",
    "Source: Data dictionary."
   ]
  },
  {
   "cell_type": "code",
   "execution_count": 12,
   "id": "5fe14f32",
   "metadata": {},
   "outputs": [
    {
     "data": {
      "text/html": [
       "<div>\n",
       "<style scoped>\n",
       "    .dataframe tbody tr th:only-of-type {\n",
       "        vertical-align: middle;\n",
       "    }\n",
       "\n",
       "    .dataframe tbody tr th {\n",
       "        vertical-align: top;\n",
       "    }\n",
       "\n",
       "    .dataframe thead th {\n",
       "        text-align: right;\n",
       "    }\n",
       "</style>\n",
       "<table border=\"1\" class=\"dataframe\">\n",
       "  <thead>\n",
       "    <tr style=\"text-align: right;\">\n",
       "      <th></th>\n",
       "      <th>Flooding_Category</th>\n",
       "      <th>Shape_Length</th>\n",
       "      <th>Shape_Area</th>\n",
       "      <th>geometry</th>\n",
       "    </tr>\n",
       "  </thead>\n",
       "  <tbody>\n",
       "    <tr>\n",
       "      <th>0</th>\n",
       "      <td>1</td>\n",
       "      <td>3.264384e+07</td>\n",
       "      <td>3.972152e+08</td>\n",
       "      <td>MULTIPOLYGON Z (((917206.497 120931.611 0.000,...</td>\n",
       "    </tr>\n",
       "    <tr>\n",
       "      <th>1</th>\n",
       "      <td>2</td>\n",
       "      <td>1.656489e+07</td>\n",
       "      <td>3.054550e+08</td>\n",
       "      <td>MULTIPOLYGON Z (((917270.790 120873.747 0.000,...</td>\n",
       "    </tr>\n",
       "    <tr>\n",
       "      <th>2</th>\n",
       "      <td>3</td>\n",
       "      <td>8.042525e+06</td>\n",
       "      <td>3.455846e+08</td>\n",
       "      <td>MULTIPOLYGON Z (((915290.556 120269.389 0.000,...</td>\n",
       "    </tr>\n",
       "  </tbody>\n",
       "</table>\n",
       "</div>"
      ],
      "text/plain": [
       "   Flooding_Category  Shape_Length    Shape_Area  \\\n",
       "0                  1  3.264384e+07  3.972152e+08   \n",
       "1                  2  1.656489e+07  3.054550e+08   \n",
       "2                  3  8.042525e+06  3.455846e+08   \n",
       "\n",
       "                                            geometry  \n",
       "0  MULTIPOLYGON Z (((917206.497 120931.611 0.000,...  \n",
       "1  MULTIPOLYGON Z (((917270.790 120873.747 0.000,...  \n",
       "2  MULTIPOLYGON Z (((915290.556 120269.389 0.000,...  "
      ]
     },
     "execution_count": 12,
     "metadata": {},
     "output_type": "execute_result"
    }
   ],
   "source": [
    "# examine flood category codes\n",
    "gdf.head()"
   ]
  },
  {
   "cell_type": "code",
   "execution_count": 13,
   "id": "defined-projector",
   "metadata": {},
   "outputs": [
    {
     "name": "stdout",
     "output_type": "stream",
     "text": [
      "shape of data: (3, 5)\n"
     ]
    },
    {
     "data": {
      "text/html": [
       "<div>\n",
       "<style scoped>\n",
       "    .dataframe tbody tr th:only-of-type {\n",
       "        vertical-align: middle;\n",
       "    }\n",
       "\n",
       "    .dataframe tbody tr th {\n",
       "        vertical-align: top;\n",
       "    }\n",
       "\n",
       "    .dataframe thead th {\n",
       "        text-align: right;\n",
       "    }\n",
       "</style>\n",
       "<table border=\"1\" class=\"dataframe\">\n",
       "  <thead>\n",
       "    <tr style=\"text-align: right;\">\n",
       "      <th></th>\n",
       "      <th>Flooding_Category</th>\n",
       "      <th>Shape_Length</th>\n",
       "      <th>Shape_Area</th>\n",
       "      <th>geometry</th>\n",
       "      <th>flood_classification</th>\n",
       "    </tr>\n",
       "  </thead>\n",
       "  <tbody>\n",
       "    <tr>\n",
       "      <th>0</th>\n",
       "      <td>1</td>\n",
       "      <td>3.264384e+07</td>\n",
       "      <td>3.972152e+08</td>\n",
       "      <td>MULTIPOLYGON Z (((917206.497 120931.611 0.000,...</td>\n",
       "      <td>Nuisance Flooding</td>\n",
       "    </tr>\n",
       "    <tr>\n",
       "      <th>1</th>\n",
       "      <td>2</td>\n",
       "      <td>1.656489e+07</td>\n",
       "      <td>3.054550e+08</td>\n",
       "      <td>MULTIPOLYGON Z (((917270.790 120873.747 0.000,...</td>\n",
       "      <td>Deep and Contiguous Flooding</td>\n",
       "    </tr>\n",
       "    <tr>\n",
       "      <th>2</th>\n",
       "      <td>3</td>\n",
       "      <td>8.042525e+06</td>\n",
       "      <td>3.455846e+08</td>\n",
       "      <td>MULTIPOLYGON Z (((915290.556 120269.389 0.000,...</td>\n",
       "      <td>Future High Tides 2080</td>\n",
       "    </tr>\n",
       "  </tbody>\n",
       "</table>\n",
       "</div>"
      ],
      "text/plain": [
       "   Flooding_Category  Shape_Length    Shape_Area  \\\n",
       "0                  1  3.264384e+07  3.972152e+08   \n",
       "1                  2  1.656489e+07  3.054550e+08   \n",
       "2                  3  8.042525e+06  3.455846e+08   \n",
       "\n",
       "                                            geometry  \\\n",
       "0  MULTIPOLYGON Z (((917206.497 120931.611 0.000,...   \n",
       "1  MULTIPOLYGON Z (((917270.790 120873.747 0.000,...   \n",
       "2  MULTIPOLYGON Z (((915290.556 120269.389 0.000,...   \n",
       "\n",
       "           flood_classification  \n",
       "0             Nuisance Flooding  \n",
       "1  Deep and Contiguous Flooding  \n",
       "2        Future High Tides 2080  "
      ]
     },
     "execution_count": 13,
     "metadata": {},
     "output_type": "execute_result"
    }
   ],
   "source": [
    "# mapping flood category codes to classifications, easier to read\n",
    "codes_dict = {\n",
    "    1:'Nuisance Flooding',\n",
    "    2:'Deep and Contiguous Flooding',\n",
    "    3:'Future High Tides 2080'\n",
    "}\n",
    "\n",
    "# add new column for flood classification\n",
    "gdf['flood_classification'] = gdf['Flooding_Category'].replace(codes_dict)\n",
    "\n",
    "# sanity check\n",
    "print('shape of data: {}'.format(gdf.shape))\n",
    "gdf.head()"
   ]
  },
  {
   "cell_type": "code",
   "execution_count": 14,
   "id": "wrapped-jacket",
   "metadata": {},
   "outputs": [
    {
     "name": "stdout",
     "output_type": "stream",
     "text": [
      "shape of data: (145429, 5)\n"
     ]
    },
    {
     "data": {
      "text/html": [
       "<div>\n",
       "<style scoped>\n",
       "    .dataframe tbody tr th:only-of-type {\n",
       "        vertical-align: middle;\n",
       "    }\n",
       "\n",
       "    .dataframe tbody tr th {\n",
       "        vertical-align: top;\n",
       "    }\n",
       "\n",
       "    .dataframe thead th {\n",
       "        text-align: right;\n",
       "    }\n",
       "</style>\n",
       "<table border=\"1\" class=\"dataframe\">\n",
       "  <thead>\n",
       "    <tr style=\"text-align: right;\">\n",
       "      <th></th>\n",
       "      <th>Flooding_Category</th>\n",
       "      <th>Shape_Length</th>\n",
       "      <th>Shape_Area</th>\n",
       "      <th>flood_classification</th>\n",
       "      <th>geometry</th>\n",
       "    </tr>\n",
       "  </thead>\n",
       "  <tbody>\n",
       "    <tr>\n",
       "      <th>0</th>\n",
       "      <td>1</td>\n",
       "      <td>51.436905</td>\n",
       "      <td>165.359700</td>\n",
       "      <td>Nuisance Flooding</td>\n",
       "      <td>POLYGON Z ((917206.497 120931.611 0.000, 91720...</td>\n",
       "    </tr>\n",
       "    <tr>\n",
       "      <th>1</th>\n",
       "      <td>1</td>\n",
       "      <td>37.622059</td>\n",
       "      <td>79.460913</td>\n",
       "      <td>Nuisance Flooding</td>\n",
       "      <td>POLYGON Z ((917309.366 120950.899 0.000, 91730...</td>\n",
       "    </tr>\n",
       "    <tr>\n",
       "      <th>2</th>\n",
       "      <td>1</td>\n",
       "      <td>14.432754</td>\n",
       "      <td>4.925173</td>\n",
       "      <td>Nuisance Flooding</td>\n",
       "      <td>POLYGON Z ((917309.366 120950.899 0.000, 91730...</td>\n",
       "    </tr>\n",
       "    <tr>\n",
       "      <th>3</th>\n",
       "      <td>1</td>\n",
       "      <td>54.817201</td>\n",
       "      <td>154.010850</td>\n",
       "      <td>Nuisance Flooding</td>\n",
       "      <td>POLYGON Z ((917277.219 120938.040 0.000, 91726...</td>\n",
       "    </tr>\n",
       "    <tr>\n",
       "      <th>4</th>\n",
       "      <td>1</td>\n",
       "      <td>24.392395</td>\n",
       "      <td>14.030167</td>\n",
       "      <td>Nuisance Flooding</td>\n",
       "      <td>POLYGON Z ((917311.973 120963.757 0.000, 91730...</td>\n",
       "    </tr>\n",
       "  </tbody>\n",
       "</table>\n",
       "</div>"
      ],
      "text/plain": [
       "   Flooding_Category  Shape_Length  Shape_Area flood_classification  \\\n",
       "0                  1     51.436905  165.359700    Nuisance Flooding   \n",
       "1                  1     37.622059   79.460913    Nuisance Flooding   \n",
       "2                  1     14.432754    4.925173    Nuisance Flooding   \n",
       "3                  1     54.817201  154.010850    Nuisance Flooding   \n",
       "4                  1     24.392395   14.030167    Nuisance Flooding   \n",
       "\n",
       "                                            geometry  \n",
       "0  POLYGON Z ((917206.497 120931.611 0.000, 91720...  \n",
       "1  POLYGON Z ((917309.366 120950.899 0.000, 91730...  \n",
       "2  POLYGON Z ((917309.366 120950.899 0.000, 91730...  \n",
       "3  POLYGON Z ((917277.219 120938.040 0.000, 91726...  \n",
       "4  POLYGON Z ((917311.973 120963.757 0.000, 91730...  "
      ]
     },
     "execution_count": 14,
     "metadata": {},
     "output_type": "execute_result"
    }
   ],
   "source": [
    "# explode multipolygon so every row is a single polygon\n",
    "gdf = (\n",
    "    gdf\n",
    "    .explode()\n",
    "    .reset_index(drop=True)\n",
    ")\n",
    "\n",
    "# calculating area and length of geometries\n",
    "gdf['Shape_Area'] = gdf.area \n",
    "gdf['Shape_Length'] = gdf.length \n",
    "\n",
    "print('shape of data: {}'.format(gdf.shape))\n",
    "gdf.head()"
   ]
  },
  {
   "cell_type": "code",
   "execution_count": 16,
   "id": "76d8eac3",
   "metadata": {},
   "outputs": [
    {
     "data": {
      "text/plain": [
       "Polygon    145429\n",
       "dtype: int64"
      ]
     },
     "execution_count": 16,
     "metadata": {},
     "output_type": "execute_result"
    }
   ],
   "source": [
    "# sanity check for geom types values\n",
    "gdf.geom_type.value_counts()"
   ]
  },
  {
   "cell_type": "code",
   "execution_count": 17,
   "id": "392aa539",
   "metadata": {},
   "outputs": [
    {
     "data": {
      "text/plain": [
       "<Derived Projected CRS: EPSG:2263>\n",
       "Name: NAD83 / New York Long Island (ftUS)\n",
       "Axis Info [cartesian]:\n",
       "- X[east]: Easting (US survey foot)\n",
       "- Y[north]: Northing (US survey foot)\n",
       "Area of Use:\n",
       "- name: United States (USA) - New York - counties of Bronx; Kings; Nassau; New York; Queens; Richmond; Suffolk.\n",
       "- bounds: (-74.26, 40.47, -71.8, 41.3)\n",
       "Coordinate Operation:\n",
       "- name: SPCS83 New York Long Island zone (US Survey feet)\n",
       "- method: Lambert Conic Conformal (2SP)\n",
       "Datum: North American Datum 1983\n",
       "- Ellipsoid: GRS 1980\n",
       "- Prime Meridian: Greenwich"
      ]
     },
     "execution_count": 17,
     "metadata": {},
     "output_type": "execute_result"
    }
   ],
   "source": [
    "# examine CRS\n",
    "gdf.crs"
   ]
  },
  {
   "cell_type": "code",
   "execution_count": 18,
   "id": "f0d1e9c4",
   "metadata": {},
   "outputs": [
    {
     "data": {
      "text/html": [
       "<div>\n",
       "<style scoped>\n",
       "    .dataframe tbody tr th:only-of-type {\n",
       "        vertical-align: middle;\n",
       "    }\n",
       "\n",
       "    .dataframe tbody tr th {\n",
       "        vertical-align: top;\n",
       "    }\n",
       "\n",
       "    .dataframe thead th {\n",
       "        text-align: right;\n",
       "    }\n",
       "</style>\n",
       "<table border=\"1\" class=\"dataframe\">\n",
       "  <thead>\n",
       "    <tr style=\"text-align: right;\">\n",
       "      <th></th>\n",
       "      <th>Flooding_Category</th>\n",
       "      <th>flood_classification</th>\n",
       "      <th>Shape_Length</th>\n",
       "      <th>Shape_Area</th>\n",
       "      <th>geometry</th>\n",
       "    </tr>\n",
       "  </thead>\n",
       "  <tbody>\n",
       "    <tr>\n",
       "      <th>0</th>\n",
       "      <td>1</td>\n",
       "      <td>Nuisance Flooding</td>\n",
       "      <td>51.436905</td>\n",
       "      <td>165.359700</td>\n",
       "      <td>POLYGON Z ((917206.497 120931.611 0.000, 91720...</td>\n",
       "    </tr>\n",
       "    <tr>\n",
       "      <th>1</th>\n",
       "      <td>1</td>\n",
       "      <td>Nuisance Flooding</td>\n",
       "      <td>37.622059</td>\n",
       "      <td>79.460913</td>\n",
       "      <td>POLYGON Z ((917309.366 120950.899 0.000, 91730...</td>\n",
       "    </tr>\n",
       "    <tr>\n",
       "      <th>2</th>\n",
       "      <td>1</td>\n",
       "      <td>Nuisance Flooding</td>\n",
       "      <td>14.432754</td>\n",
       "      <td>4.925173</td>\n",
       "      <td>POLYGON Z ((917309.366 120950.899 0.000, 91730...</td>\n",
       "    </tr>\n",
       "    <tr>\n",
       "      <th>3</th>\n",
       "      <td>1</td>\n",
       "      <td>Nuisance Flooding</td>\n",
       "      <td>54.817201</td>\n",
       "      <td>154.010850</td>\n",
       "      <td>POLYGON Z ((917277.219 120938.040 0.000, 91726...</td>\n",
       "    </tr>\n",
       "    <tr>\n",
       "      <th>4</th>\n",
       "      <td>1</td>\n",
       "      <td>Nuisance Flooding</td>\n",
       "      <td>24.392395</td>\n",
       "      <td>14.030167</td>\n",
       "      <td>POLYGON Z ((917311.973 120963.757 0.000, 91730...</td>\n",
       "    </tr>\n",
       "  </tbody>\n",
       "</table>\n",
       "</div>"
      ],
      "text/plain": [
       "   Flooding_Category flood_classification  Shape_Length  Shape_Area  \\\n",
       "0                  1    Nuisance Flooding     51.436905  165.359700   \n",
       "1                  1    Nuisance Flooding     37.622059   79.460913   \n",
       "2                  1    Nuisance Flooding     14.432754    4.925173   \n",
       "3                  1    Nuisance Flooding     54.817201  154.010850   \n",
       "4                  1    Nuisance Flooding     24.392395   14.030167   \n",
       "\n",
       "                                            geometry  \n",
       "0  POLYGON Z ((917206.497 120931.611 0.000, 91720...  \n",
       "1  POLYGON Z ((917309.366 120950.899 0.000, 91730...  \n",
       "2  POLYGON Z ((917309.366 120950.899 0.000, 91730...  \n",
       "3  POLYGON Z ((917277.219 120938.040 0.000, 91726...  \n",
       "4  POLYGON Z ((917311.973 120963.757 0.000, 91730...  "
      ]
     },
     "execution_count": 18,
     "metadata": {},
     "output_type": "execute_result"
    }
   ],
   "source": [
    "cols = [\n",
    "    'Flooding_Category',\n",
    "    'flood_classification', \n",
    "    'Shape_Length',\n",
    "    'Shape_Area',\n",
    "    'geometry'\n",
    "]\n",
    "\n",
    "# rearrange column order\n",
    "gdf = gdf.loc[:, cols]\n",
    "\n",
    "# preview data\n",
    "gdf.head()"
   ]
  },
  {
   "cell_type": "code",
   "execution_count": 19,
   "id": "valuable-saver",
   "metadata": {},
   "outputs": [
    {
     "data": {
      "text/html": [
       "<div>\n",
       "<style scoped>\n",
       "    .dataframe tbody tr th:only-of-type {\n",
       "        vertical-align: middle;\n",
       "    }\n",
       "\n",
       "    .dataframe tbody tr th {\n",
       "        vertical-align: top;\n",
       "    }\n",
       "\n",
       "    .dataframe thead th {\n",
       "        text-align: right;\n",
       "    }\n",
       "</style>\n",
       "<table border=\"1\" class=\"dataframe\">\n",
       "  <thead>\n",
       "    <tr style=\"text-align: right;\">\n",
       "      <th></th>\n",
       "      <th>flood_classification</th>\n",
       "      <th>count_polygons</th>\n",
       "    </tr>\n",
       "  </thead>\n",
       "  <tbody>\n",
       "    <tr>\n",
       "      <th>0</th>\n",
       "      <td>Deep and Contiguous Flooding</td>\n",
       "      <td>39742</td>\n",
       "    </tr>\n",
       "    <tr>\n",
       "      <th>1</th>\n",
       "      <td>Future High Tides 2080</td>\n",
       "      <td>7122</td>\n",
       "    </tr>\n",
       "    <tr>\n",
       "      <th>2</th>\n",
       "      <td>Nuisance Flooding</td>\n",
       "      <td>98565</td>\n",
       "    </tr>\n",
       "  </tbody>\n",
       "</table>\n",
       "</div>"
      ],
      "text/plain": [
       "           flood_classification  count_polygons\n",
       "0  Deep and Contiguous Flooding           39742\n",
       "1        Future High Tides 2080            7122\n",
       "2             Nuisance Flooding           98565"
      ]
     },
     "execution_count": 19,
     "metadata": {},
     "output_type": "execute_result"
    }
   ],
   "source": [
    "# examine count of polygons by flood classifications\n",
    "(gdf\n",
    " .groupby(by='flood_classification')[['flood_classification']]\n",
    " .count()\n",
    " .rename(columns={'flood_classification':'count_polygons'})\n",
    " .reset_index()\n",
    ")"
   ]
  },
  {
   "cell_type": "code",
   "execution_count": 20,
   "id": "7b8a1870",
   "metadata": {},
   "outputs": [
    {
     "data": {
      "text/html": [
       "<div>\n",
       "<style scoped>\n",
       "    .dataframe tbody tr th:only-of-type {\n",
       "        vertical-align: middle;\n",
       "    }\n",
       "\n",
       "    .dataframe tbody tr th {\n",
       "        vertical-align: top;\n",
       "    }\n",
       "\n",
       "    .dataframe thead th {\n",
       "        text-align: right;\n",
       "    }\n",
       "</style>\n",
       "<table border=\"1\" class=\"dataframe\">\n",
       "  <thead>\n",
       "    <tr style=\"text-align: right;\">\n",
       "      <th></th>\n",
       "      <th>flood_classification</th>\n",
       "      <th>shape_area_acres</th>\n",
       "    </tr>\n",
       "  </thead>\n",
       "  <tbody>\n",
       "    <tr>\n",
       "      <th>0</th>\n",
       "      <td>Deep and Contiguous Flooding</td>\n",
       "      <td>7012</td>\n",
       "    </tr>\n",
       "    <tr>\n",
       "      <th>1</th>\n",
       "      <td>Future High Tides 2080</td>\n",
       "      <td>7934</td>\n",
       "    </tr>\n",
       "    <tr>\n",
       "      <th>2</th>\n",
       "      <td>Nuisance Flooding</td>\n",
       "      <td>9119</td>\n",
       "    </tr>\n",
       "  </tbody>\n",
       "</table>\n",
       "</div>"
      ],
      "text/plain": [
       "           flood_classification  shape_area_acres\n",
       "0  Deep and Contiguous Flooding              7012\n",
       "1        Future High Tides 2080              7934\n",
       "2             Nuisance Flooding              9119"
      ]
     },
     "execution_count": 20,
     "metadata": {},
     "output_type": "execute_result"
    }
   ],
   "source": [
    "# examine flooded area by flood classifications\n",
    "acres_conversion = 43560\n",
    "\n",
    "(gdf\n",
    " .groupby(by='flood_classification')[['Shape_Area']]\n",
    " .sum()\n",
    " .div(acres_conversion)\n",
    " .round(0)\n",
    " .astype(int)\n",
    " .rename(columns={'Shape_Area':'shape_area_acres'})\n",
    " .reset_index()\n",
    ")"
   ]
  },
  {
   "cell_type": "code",
   "execution_count": 21,
   "id": "c788ab94",
   "metadata": {},
   "outputs": [
    {
     "data": {
      "text/html": [
       "<div>\n",
       "<style scoped>\n",
       "    .dataframe tbody tr th:only-of-type {\n",
       "        vertical-align: middle;\n",
       "    }\n",
       "\n",
       "    .dataframe tbody tr th {\n",
       "        vertical-align: top;\n",
       "    }\n",
       "\n",
       "    .dataframe thead tr th {\n",
       "        text-align: left;\n",
       "    }\n",
       "</style>\n",
       "<table border=\"1\" class=\"dataframe\">\n",
       "  <thead>\n",
       "    <tr>\n",
       "      <th></th>\n",
       "      <th>flood_classification</th>\n",
       "      <th colspan=\"2\" halign=\"left\">shape_area_acres</th>\n",
       "    </tr>\n",
       "    <tr>\n",
       "      <th></th>\n",
       "      <th></th>\n",
       "      <th>min</th>\n",
       "      <th>max</th>\n",
       "    </tr>\n",
       "  </thead>\n",
       "  <tbody>\n",
       "    <tr>\n",
       "      <th>0</th>\n",
       "      <td>Deep and Contiguous Flooding</td>\n",
       "      <td>1.186102e-09</td>\n",
       "      <td>68.154537</td>\n",
       "    </tr>\n",
       "    <tr>\n",
       "      <th>1</th>\n",
       "      <td>Future High Tides 2080</td>\n",
       "      <td>4.305792e-09</td>\n",
       "      <td>1266.198909</td>\n",
       "    </tr>\n",
       "    <tr>\n",
       "      <th>2</th>\n",
       "      <td>Nuisance Flooding</td>\n",
       "      <td>1.174981e-09</td>\n",
       "      <td>50.153468</td>\n",
       "    </tr>\n",
       "  </tbody>\n",
       "</table>\n",
       "</div>"
      ],
      "text/plain": [
       "           flood_classification shape_area_acres             \n",
       "                                             min          max\n",
       "0  Deep and Contiguous Flooding     1.186102e-09    68.154537\n",
       "1        Future High Tides 2080     4.305792e-09  1266.198909\n",
       "2             Nuisance Flooding     1.174981e-09    50.153468"
      ]
     },
     "execution_count": 21,
     "metadata": {},
     "output_type": "execute_result"
    }
   ],
   "source": [
    "# examine flooded area min, max by flood classifications\n",
    "acres_conversion = 43560\n",
    "\n",
    "(gdf\n",
    " .groupby(by='flood_classification')[['Shape_Area']]\n",
    " .agg({'Shape_Area': ['min', 'max']})\n",
    " .div(acres_conversion)\n",
    " .rename(columns={'Shape_Area':'shape_area_acres'})\n",
    " .reset_index()\n",
    ")"
   ]
  },
  {
   "cell_type": "code",
   "execution_count": 22,
   "id": "519cb3d9",
   "metadata": {},
   "outputs": [
    {
     "name": "stdout",
     "output_type": "stream",
     "text": [
      "polygons less than 0.25 acres:\n",
      "-----\n",
      "count: 91.72% of total\n",
      "area: 13.31% of total\n"
     ]
    }
   ],
   "source": [
    "# a quick sanity check with small polygons < 0.25 acres\n",
    "acres_conversion = 43560\n",
    "ser = gdf['Shape_Area'] / acres_conversion\n",
    "\n",
    "perc_count = round(ser.loc[ser < .25].shape[0] / ser.shape[0] * 100, 2)\n",
    "perc_area = round(ser.loc[ser < .25].sum() / ser.sum() * 100, 2)\n",
    "\n",
    "print('polygons less than 0.25 acres:\\n-----')\n",
    "print('count: {}% of total'.format(perc_count))\n",
    "print('area: {}% of total'.format(perc_area))"
   ]
  },
  {
   "cell_type": "code",
   "execution_count": 23,
   "id": "b87186e8",
   "metadata": {},
   "outputs": [
    {
     "data": {
      "image/png": "[encoded data removed]",
      "text/plain": [
       "<Figure size 576x432 with 4 Axes>"
      ]
     },
     "metadata": {
      "needs_background": "light"
     },
     "output_type": "display_data"
    }
   ],
   "source": [
    "acres_conversion = 43560\n",
    "\n",
    "(gdf\n",
    " .loc[gdf['Shape_Area'] / acres_conversion < .25]\n",
    " .hist(figsize=(8, 6))\n",
    ")\n",
    "\n",
    "# note: units are still displayed as square feet in plots\n",
    "plt.tight_layout()"
   ]
  },
  {
   "cell_type": "code",
   "execution_count": 25,
   "id": "d88e0ae9",
   "metadata": {},
   "outputs": [
    {
     "data": {
      "image/png": "[encoded data removed]",
      "text/plain": [
       "<Figure size 432x288 with 1 Axes>"
      ]
     },
     "metadata": {
      "needs_background": "light"
     },
     "output_type": "display_data"
    }
   ],
   "source": [
    "fig, ax = plt.subplots(figsize=(6, 4))\n",
    "\n",
    "acres_conversion = 43560\n",
    "hist_gdf = gdf['Shape_Area'] / acres_conversion\n",
    "\n",
    "(hist_gdf\n",
    " .loc[hist_gdf < 0.25]\n",
    " .hist(ax=ax)\n",
    ")\n",
    "\n",
    "plt.title('Distribution of Polygons Less Than 0.25 Acres')\n",
    "plt.xlabel('Acres')\n",
    "plt.ylabel('Count')\n",
    "plt.tight_layout()"
   ]
  },
  {
   "cell_type": "code",
   "execution_count": 26,
   "id": "a4ae19a0",
   "metadata": {},
   "outputs": [
    {
     "name": "stdout",
     "output_type": "stream",
     "text": [
      "shape of data: (12036, 5)\n"
     ]
    },
    {
     "data": {
      "text/html": [
       "<div>\n",
       "<style scoped>\n",
       "    .dataframe tbody tr th:only-of-type {\n",
       "        vertical-align: middle;\n",
       "    }\n",
       "\n",
       "    .dataframe tbody tr th {\n",
       "        vertical-align: top;\n",
       "    }\n",
       "\n",
       "    .dataframe thead th {\n",
       "        text-align: right;\n",
       "    }\n",
       "</style>\n",
       "<table border=\"1\" class=\"dataframe\">\n",
       "  <thead>\n",
       "    <tr style=\"text-align: right;\">\n",
       "      <th></th>\n",
       "      <th>Flooding_Category</th>\n",
       "      <th>flood_classification</th>\n",
       "      <th>Shape_Length</th>\n",
       "      <th>Shape_Area</th>\n",
       "      <th>geometry</th>\n",
       "    </tr>\n",
       "  </thead>\n",
       "  <tbody>\n",
       "    <tr>\n",
       "      <th>0</th>\n",
       "      <td>1</td>\n",
       "      <td>Nuisance Flooding</td>\n",
       "      <td>1695.857677</td>\n",
       "      <td>27852.535494</td>\n",
       "      <td>POLYGON Z ((916393.149 121765.469 0.000, 91640...</td>\n",
       "    </tr>\n",
       "    <tr>\n",
       "      <th>1</th>\n",
       "      <td>1</td>\n",
       "      <td>Nuisance Flooding</td>\n",
       "      <td>1532.269198</td>\n",
       "      <td>18338.901687</td>\n",
       "      <td>POLYGON Z ((917251.502 121381.664 0.000, 91725...</td>\n",
       "    </tr>\n",
       "    <tr>\n",
       "      <th>2</th>\n",
       "      <td>1</td>\n",
       "      <td>Nuisance Flooding</td>\n",
       "      <td>2327.963831</td>\n",
       "      <td>32127.388341</td>\n",
       "      <td>POLYGON Z ((916251.188 121441.271 0.000, 91625...</td>\n",
       "    </tr>\n",
       "    <tr>\n",
       "      <th>3</th>\n",
       "      <td>1</td>\n",
       "      <td>Nuisance Flooding</td>\n",
       "      <td>3830.095703</td>\n",
       "      <td>48711.665246</td>\n",
       "      <td>POLYGON Z ((917377.109 122108.195 0.000, 91739...</td>\n",
       "    </tr>\n",
       "    <tr>\n",
       "      <th>4</th>\n",
       "      <td>1</td>\n",
       "      <td>Nuisance Flooding</td>\n",
       "      <td>4600.270710</td>\n",
       "      <td>65321.650657</td>\n",
       "      <td>POLYGON Z ((918159.499 121451.773 0.000, 91814...</td>\n",
       "    </tr>\n",
       "  </tbody>\n",
       "</table>\n",
       "</div>"
      ],
      "text/plain": [
       "   Flooding_Category flood_classification  Shape_Length    Shape_Area  \\\n",
       "0                  1    Nuisance Flooding   1695.857677  27852.535494   \n",
       "1                  1    Nuisance Flooding   1532.269198  18338.901687   \n",
       "2                  1    Nuisance Flooding   2327.963831  32127.388341   \n",
       "3                  1    Nuisance Flooding   3830.095703  48711.665246   \n",
       "4                  1    Nuisance Flooding   4600.270710  65321.650657   \n",
       "\n",
       "                                            geometry  \n",
       "0  POLYGON Z ((916393.149 121765.469 0.000, 91640...  \n",
       "1  POLYGON Z ((917251.502 121381.664 0.000, 91725...  \n",
       "2  POLYGON Z ((916251.188 121441.271 0.000, 91625...  \n",
       "3  POLYGON Z ((917377.109 122108.195 0.000, 91739...  \n",
       "4  POLYGON Z ((918159.499 121451.773 0.000, 91814...  "
      ]
     },
     "execution_count": 26,
     "metadata": {},
     "output_type": "execute_result"
    }
   ],
   "source": [
    "# removing polygons with less than 0.25 acres of flooding\n",
    "acres_conversion = 43560\n",
    "\n",
    "gdf = (\n",
    "    gdf\n",
    "    .loc[gdf['Shape_Area'] / acres_conversion >= .25]\n",
    "    .reset_index(drop=True)\n",
    ")\n",
    "\n",
    "print('shape of data: {}'.format(gdf.shape))\n",
    "gdf.head()"
   ]
  },
  {
   "cell_type": "code",
   "execution_count": 27,
   "id": "7c359a4c",
   "metadata": {},
   "outputs": [
    {
     "data": {
      "text/html": [
       "<div>\n",
       "<style scoped>\n",
       "    .dataframe tbody tr th:only-of-type {\n",
       "        vertical-align: middle;\n",
       "    }\n",
       "\n",
       "    .dataframe tbody tr th {\n",
       "        vertical-align: top;\n",
       "    }\n",
       "\n",
       "    .dataframe thead th {\n",
       "        text-align: right;\n",
       "    }\n",
       "</style>\n",
       "<table border=\"1\" class=\"dataframe\">\n",
       "  <thead>\n",
       "    <tr style=\"text-align: right;\">\n",
       "      <th></th>\n",
       "      <th>Shape_Area</th>\n",
       "    </tr>\n",
       "  </thead>\n",
       "  <tbody>\n",
       "    <tr>\n",
       "      <th>count</th>\n",
       "      <td>12036.000000</td>\n",
       "    </tr>\n",
       "    <tr>\n",
       "      <th>mean</th>\n",
       "      <td>1.733295</td>\n",
       "    </tr>\n",
       "    <tr>\n",
       "      <th>std</th>\n",
       "      <td>15.038070</td>\n",
       "    </tr>\n",
       "    <tr>\n",
       "      <th>min</th>\n",
       "      <td>0.250030</td>\n",
       "    </tr>\n",
       "    <tr>\n",
       "      <th>25%</th>\n",
       "      <td>0.347283</td>\n",
       "    </tr>\n",
       "    <tr>\n",
       "      <th>50%</th>\n",
       "      <td>0.538978</td>\n",
       "    </tr>\n",
       "    <tr>\n",
       "      <th>75%</th>\n",
       "      <td>1.048261</td>\n",
       "    </tr>\n",
       "    <tr>\n",
       "      <th>max</th>\n",
       "      <td>1266.198909</td>\n",
       "    </tr>\n",
       "  </tbody>\n",
       "</table>\n",
       "</div>"
      ],
      "text/plain": [
       "         Shape_Area\n",
       "count  12036.000000\n",
       "mean       1.733295\n",
       "std       15.038070\n",
       "min        0.250030\n",
       "25%        0.347283\n",
       "50%        0.538978\n",
       "75%        1.048261\n",
       "max     1266.198909"
      ]
     },
     "execution_count": 27,
     "metadata": {},
     "output_type": "execute_result"
    }
   ],
   "source": [
    "# sanity check (acres)\n",
    "acres_conversion = 43560\n",
    "ser = gdf.loc[:, ['Shape_Area']] / acres_conversion\n",
    "\n",
    "# examining summary statistics of flood area\n",
    "ser.describe()"
   ]
  },
  {
   "cell_type": "code",
   "execution_count": 28,
   "id": "fea98fb3",
   "metadata": {},
   "outputs": [
    {
     "data": {
      "text/plain": [
       "<AxesSubplot:>"
      ]
     },
     "execution_count": 28,
     "metadata": {},
     "output_type": "execute_result"
    },
    {
     "data": {
      "image/png": "[encoded data removed]",
      "text/plain": [
       "<Figure size 432x288 with 1 Axes>"
      ]
     },
     "metadata": {
      "needs_background": "light"
     },
     "output_type": "display_data"
    }
   ],
   "source": [
    "# sanity check\n",
    "gdf.plot()"
   ]
  },
  {
   "cell_type": "code",
   "execution_count": 29,
   "id": "8a24e1d8",
   "metadata": {},
   "outputs": [
    {
     "name": "stdout",
     "output_type": "stream",
     "text": [
      "buildings-hazard.csv     stormwater-data-nyc.zip  stormwater-data.zip\r\n",
      "daily-precipitation.csv  \u001b[34mstormwater-data-source\u001b[m\u001b[m/\r\n",
      "nta-hazard.csv           stormwater-data.gpkg\r\n"
     ]
    }
   ],
   "source": [
    "# save file\n",
    "gdf.to_file(\n",
    "    'data/stormwater-data.gpkg',\n",
    "    driver='GPKG',\n",
    "    layer='name',\n",
    "    index=False\n",
    ")\n",
    "\n",
    "%ls data/"
   ]
  },
  {
   "cell_type": "code",
   "execution_count": 30,
   "id": "f467f100",
   "metadata": {},
   "outputs": [
    {
     "name": "stdout",
     "output_type": "stream",
     "text": [
      "updating: data/stormwater-data.gpkg (deflated 63%)\n",
      "buildings-hazard.csv     stormwater-data-nyc.zip  stormwater-data.zip\n",
      "daily-precipitation.csv  \u001b[34mstormwater-data-source\u001b[m\u001b[m/\n",
      "nta-hazard.csv           stormwater-data.gpkg\n"
     ]
    }
   ],
   "source": [
    "# zip .gpkg into zip folder\n",
    "!zip data/stormwater-data.zip data/stormwater-data.gpkg\n",
    "\n",
    "%ls data/"
   ]
  },
  {
   "cell_type": "code",
   "execution_count": 31,
   "id": "d8f13728",
   "metadata": {},
   "outputs": [
    {
     "name": "stdout",
     "output_type": "stream",
     "text": [
      "buildings-hazard.csv     nta-hazard.csv           stormwater-data.zip\r\n",
      "daily-precipitation.csv  \u001b[34mstormwater-data-source\u001b[m\u001b[m/\r\n"
     ]
    }
   ],
   "source": [
    "# remove copies of data to save storage\n",
    "!rm data/stormwater-data.gpkg data/stormwater-data-nyc.zip\n",
    "\n",
    "%ls data/"
   ]
  },
  {
   "cell_type": "code",
   "execution_count": null,
   "id": "31b32ed8",
   "metadata": {},
   "outputs": [],
   "source": []
  }
 ],
 "metadata": {
  "kernelspec": {
   "display_name": "Python 3 (ipykernel)",
   "language": "python",
   "name": "python3"
  },
  "language_info": {
   "codemirror_mode": {
    "name": "ipython",
    "version": 3
   },
   "file_extension": ".py",
   "mimetype": "text/x-python",
   "name": "python",
   "nbconvert_exporter": "python",
   "pygments_lexer": "ipython3",
   "version": "3.8.13"
  }
 },
 "nbformat": 4,
 "nbformat_minor": 5
}
