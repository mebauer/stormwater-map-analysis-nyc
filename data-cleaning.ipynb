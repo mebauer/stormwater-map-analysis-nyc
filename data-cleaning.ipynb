{
 "cells": [
  {
   "cell_type": "markdown",
   "id": "understanding-hierarchy",
   "metadata": {},
   "source": [
    "# Analyzing NYC's Stormwater Flood Map - Extreme Flood Scenario\n",
    "## Data Cleaning\n",
    "\n",
    "Mark Bauer"
   ]
  },
  {
   "cell_type": "code",
   "execution_count": 1,
   "id": "ahead-burlington",
   "metadata": {},
   "outputs": [],
   "source": [
    "import numpy as np\n",
    "import pandas as pd\n",
    "import geopandas as gpd\n",
    "import seaborn as sns\n",
    "import matplotlib.pyplot as plt\n",
    "import urllib.request\n",
    "import zipfile \n",
    "import matplotlib.patches as mpatches\n",
    "import contextily as ctx\n",
    "\n",
    "plt.rcParams['savefig.facecolor'] = 'white'\n",
    "%matplotlib inline"
   ]
  },
  {
   "cell_type": "code",
   "execution_count": 2,
   "id": "medium-german",
   "metadata": {},
   "outputs": [
    {
     "name": "stdout",
     "output_type": "stream",
     "text": [
      "Python implementation: CPython\n",
      "Python version       : 3.8.13\n",
      "IPython version      : 8.4.0\n",
      "\n",
      "numpy     : 1.22.4\n",
      "pandas    : 1.4.2\n",
      "seaborn   : 0.11.2\n",
      "matplotlib: 3.5.2\n",
      "geopandas : 0.9.0\n",
      "\n"
     ]
    }
   ],
   "source": [
    "%reload_ext watermark\n",
    "%watermark -v -p numpy,pandas,seaborn,matplotlib,geopandas"
   ]
  },
  {
   "cell_type": "code",
   "execution_count": 3,
   "id": "intelligent-winner",
   "metadata": {},
   "outputs": [
    {
     "name": "stdout",
     "output_type": "stream",
     "text": [
      "listing the new downloaded file in our directory:\n",
      "CONTRIBUTING.md                    \u001b[34mdata\u001b[m\u001b[m/\r\n",
      "Data_Dictionary_ExtremeFlood.xlsx  data-cleaning.ipynb\r\n",
      "LICENSE                            \u001b[34mfigures\u001b[m\u001b[m/\r\n",
      "README.md                          \u001b[34mstormwater-data-nyc\u001b[m\u001b[m/\r\n",
      "analysis.ipynb                     stormwater-data-nyc.zip\r\n"
     ]
    }
   ],
   "source": [
    "# # url path from the web\n",
    "# url = 'https://data.cityofnewyork.us/download/w8eg-8ha6/application%2Fzip'\n",
    "# print('data url path:', url)\n",
    "\n",
    "# # assigning file name as 'stormwater-data-nyc.zip''\n",
    "# urllib.request.urlretrieve(url, 'stormwater-data-nyc.zip')\n",
    "\n",
    "# listing files in our directory\n",
    "print('listing the new downloaded file in our directory:')\n",
    "%ls"
   ]
  },
  {
   "cell_type": "code",
   "execution_count": 4,
   "id": "vertical-breakfast",
   "metadata": {
    "scrolled": true
   },
   "outputs": [
    {
     "name": "stdout",
     "output_type": "stream",
     "text": [
      "listing items after unzipping the file:\n",
      "\n",
      "\u001b[34mNYC Stormwater Flood Map - Extreme Flood.gdb\u001b[m\u001b[m/\r\n"
     ]
    }
   ],
   "source": [
    "# path = 'stormwater-data-nyc.zip'\n",
    "# print('name of zip file:', path)\n",
    "\n",
    "# # opening zip using 'with' keyword in read mode\n",
    "# with zipfile.ZipFile(path, 'r') as file:\n",
    "#     # extracing all items in our zipfile\n",
    "#     # naming our file 'stormwater-data-nyc'\n",
    "#     file.extractall('stormwater-data-nyc')\n",
    "\n",
    "print('listing items after unzipping the file:\\n')\n",
    "%ls stormwater-data-nyc/    "
   ]
  },
  {
   "cell_type": "code",
   "execution_count": 5,
   "id": "unknown-genesis",
   "metadata": {},
   "outputs": [
    {
     "name": "stdout",
     "output_type": "stream",
     "text": [
      "listing the new downloaded file in our directory:\n",
      "CONTRIBUTING.md                    \u001b[34mdata\u001b[m\u001b[m/\r\n",
      "Data_Dictionary_ExtremeFlood.xlsx  data-cleaning.ipynb\r\n",
      "LICENSE                            \u001b[34mfigures\u001b[m\u001b[m/\r\n",
      "README.md                          \u001b[34mstormwater-data-nyc\u001b[m\u001b[m/\r\n",
      "analysis.ipynb                     stormwater-data-nyc.zip\r\n"
     ]
    }
   ],
   "source": [
    "# # url path from the web\n",
    "# url = 'https://data.cityofnewyork.us/api/views/w8eg-8ha6/files\\\n",
    "# /87be26cc-67b1-4cb0-895d-90a399c79557?download=true&filename=Data_Dictionary_ExtremeFlood.xlsx'\n",
    "# print('data url path:', url)\n",
    "\n",
    "# # assigning file name as 'Data_Dictionary_ExtremeFlood.xlsx'\n",
    "# urllib.request.urlretrieve(url, 'Data_Dictionary_ExtremeFlood.xlsx')\n",
    "\n",
    "# listing files in our directory\n",
    "print('listing the new downloaded file in our directory:')\n",
    "%ls"
   ]
  },
  {
   "cell_type": "code",
   "execution_count": 6,
   "id": "illegal-violin",
   "metadata": {},
   "outputs": [
    {
     "name": "stdout",
     "output_type": "stream",
     "text": [
      "shape of data: (3, 4)\n"
     ]
    },
    {
     "data": {
      "text/html": [
       "<div>\n",
       "<style scoped>\n",
       "    .dataframe tbody tr th:only-of-type {\n",
       "        vertical-align: middle;\n",
       "    }\n",
       "\n",
       "    .dataframe tbody tr th {\n",
       "        vertical-align: top;\n",
       "    }\n",
       "\n",
       "    .dataframe thead th {\n",
       "        text-align: right;\n",
       "    }\n",
       "</style>\n",
       "<table border=\"1\" class=\"dataframe\">\n",
       "  <thead>\n",
       "    <tr style=\"text-align: right;\">\n",
       "      <th></th>\n",
       "      <th>Flooding_Category</th>\n",
       "      <th>Shape_Length</th>\n",
       "      <th>Shape_Area</th>\n",
       "      <th>geometry</th>\n",
       "    </tr>\n",
       "  </thead>\n",
       "  <tbody>\n",
       "    <tr>\n",
       "      <th>0</th>\n",
       "      <td>1</td>\n",
       "      <td>3.289858e+07</td>\n",
       "      <td>4.022472e+08</td>\n",
       "      <td>MULTIPOLYGON Z (((917251.502 120925.181 0.000,...</td>\n",
       "    </tr>\n",
       "    <tr>\n",
       "      <th>1</th>\n",
       "      <td>2</td>\n",
       "      <td>1.685940e+07</td>\n",
       "      <td>3.153255e+08</td>\n",
       "      <td>MULTIPOLYGON Z (((917270.790 120873.747 0.000,...</td>\n",
       "    </tr>\n",
       "    <tr>\n",
       "      <th>2</th>\n",
       "      <td>3</td>\n",
       "      <td>8.042453e+06</td>\n",
       "      <td>3.455846e+08</td>\n",
       "      <td>MULTIPOLYGON Z (((915290.556 120269.389 0.000,...</td>\n",
       "    </tr>\n",
       "  </tbody>\n",
       "</table>\n",
       "</div>"
      ],
      "text/plain": [
       "   Flooding_Category  Shape_Length    Shape_Area  \\\n",
       "0                  1  3.289858e+07  4.022472e+08   \n",
       "1                  2  1.685940e+07  3.153255e+08   \n",
       "2                  3  8.042453e+06  3.455846e+08   \n",
       "\n",
       "                                            geometry  \n",
       "0  MULTIPOLYGON Z (((917251.502 120925.181 0.000,...  \n",
       "1  MULTIPOLYGON Z (((917270.790 120873.747 0.000,...  \n",
       "2  MULTIPOLYGON Z (((915290.556 120269.389 0.000,...  "
      ]
     },
     "execution_count": 6,
     "metadata": {},
     "output_type": "execute_result"
    }
   ],
   "source": [
    "path = 'stormwater-data-nyc/NYC Stormwater Flood Map - Extreme Flood.gdb'\n",
    "gdf = gpd.read_file(path)\n",
    "\n",
    "print('shape of data: {}'.format(gdf.shape))\n",
    "gdf.head()"
   ]
  },
  {
   "cell_type": "code",
   "execution_count": 7,
   "id": "honest-senate",
   "metadata": {},
   "outputs": [
    {
     "name": "stdout",
     "output_type": "stream",
     "text": [
      "<class 'geopandas.geodataframe.GeoDataFrame'>\n",
      "RangeIndex: 3 entries, 0 to 2\n",
      "Data columns (total 4 columns):\n",
      " #   Column             Non-Null Count  Dtype   \n",
      "---  ------             --------------  -----   \n",
      " 0   Flooding_Category  3 non-null      int64   \n",
      " 1   Shape_Length       3 non-null      float64 \n",
      " 2   Shape_Area         3 non-null      float64 \n",
      " 3   geometry           3 non-null      geometry\n",
      "dtypes: float64(2), geometry(1), int64(1)\n",
      "memory usage: 224.0 bytes\n"
     ]
    }
   ],
   "source": [
    "# summary of the data\n",
    "gdf.info()"
   ]
  },
  {
   "cell_type": "code",
   "execution_count": 8,
   "id": "recent-fellow",
   "metadata": {},
   "outputs": [
    {
     "data": {
      "text/plain": [
       "<Derived Projected CRS: EPSG:2263>\n",
       "Name: NAD83 / New York Long Island (ftUS)\n",
       "Axis Info [cartesian]:\n",
       "- X[east]: Easting (US survey foot)\n",
       "- Y[north]: Northing (US survey foot)\n",
       "Area of Use:\n",
       "- name: United States (USA) - New York - counties of Bronx; Kings; Nassau; New York; Queens; Richmond; Suffolk.\n",
       "- bounds: (-74.26, 40.47, -71.8, 41.3)\n",
       "Coordinate Operation:\n",
       "- name: SPCS83 New York Long Island zone (US Survey feet)\n",
       "- method: Lambert Conic Conformal (2SP)\n",
       "Datum: North American Datum 1983\n",
       "- Ellipsoid: GRS 1980\n",
       "- Prime Meridian: Greenwich"
      ]
     },
     "execution_count": 8,
     "metadata": {},
     "output_type": "execute_result"
    }
   ],
   "source": [
    "gdf.crs"
   ]
  },
  {
   "cell_type": "code",
   "execution_count": null,
   "id": "received-pottery",
   "metadata": {},
   "outputs": [],
   "source": [
    "gdf.plot()"
   ]
  },
  {
   "cell_type": "code",
   "execution_count": null,
   "id": "5fe14f32",
   "metadata": {},
   "outputs": [],
   "source": [
    "gdf.iloc[:, :-1].head()"
   ]
  },
  {
   "cell_type": "markdown",
   "id": "elegant-trouble",
   "metadata": {},
   "source": [
    "Flooding_Category\t\n",
    "Category of flooding classified by depth of ponding or tidal inundation from sea level rise\n",
    "\n",
    ">1 - Nuisance Flooding (greater or equal to 4 in. and less than 1 ft.)  \n",
    "2 - Deep and Contiguous Flooding (1 ft. and greater)  \n",
    "3 - Future High Tides 2080"
   ]
  },
  {
   "cell_type": "code",
   "execution_count": null,
   "id": "defined-projector",
   "metadata": {},
   "outputs": [],
   "source": [
    "gdf['flood_classification'] = (\n",
    "    gdf['Flooding_Category']\n",
    "    .replace({1:'Nuisance Flooding',\n",
    "              2:'Deep and Contiguous Flooding',\n",
    "              3:'Future High Tides 2080'})\n",
    ")\n",
    "\n",
    "print('shape of data: {}'.format(gdf.shape))\n",
    "gdf.head()"
   ]
  },
  {
   "cell_type": "code",
   "execution_count": null,
   "id": "pressing-trash",
   "metadata": {},
   "outputs": [],
   "source": [
    "gdf['geometry'].geom_type"
   ]
  },
  {
   "cell_type": "code",
   "execution_count": null,
   "id": "wrapped-jacket",
   "metadata": {},
   "outputs": [],
   "source": [
    "gdf = (\n",
    "    gdf\n",
    "    .explode()\n",
    "    .reset_index(drop=True)\n",
    ")\n",
    "\n",
    "gdf['Shape_Area'] = gdf.area \n",
    "gdf['Shape_Length'] = gdf.length \n",
    "\n",
    "print('shape of data: {}'.format(gdf.shape))\n",
    "gdf.head()"
   ]
  },
  {
   "cell_type": "code",
   "execution_count": null,
   "id": "valuable-saver",
   "metadata": {},
   "outputs": [],
   "source": [
    "(gdf\n",
    " .groupby(by='flood_classification')[['flood_classification']]\n",
    " .count()\n",
    " .rename(columns={'flood_classification':'count_polygons'})\n",
    ")"
   ]
  },
  {
   "cell_type": "code",
   "execution_count": null,
   "id": "7b8a1870",
   "metadata": {},
   "outputs": [],
   "source": [
    "acres_conversion = 43560\n",
    "\n",
    "(gdf\n",
    " .groupby(by='flood_classification')[['Shape_Area']]\n",
    " .sum()\n",
    " .div(acres_conversion)\n",
    " .round(0)\n",
    " .rename(columns={'Shape_Area':'shape_area_acres'})\n",
    ")"
   ]
  },
  {
   "cell_type": "code",
   "execution_count": null,
   "id": "11fda6e1",
   "metadata": {},
   "outputs": [],
   "source": [
    "gdf.to_file(\n",
    "    'data/stormwater-data.gpkg',\n",
    "    driver='GPKG',\n",
    "    layer='name',\n",
    "    index=False\n",
    ")"
   ]
  },
  {
   "cell_type": "code",
   "execution_count": null,
   "id": "04cf6999",
   "metadata": {},
   "outputs": [],
   "source": [
    "ls data/"
   ]
  },
  {
   "cell_type": "code",
   "execution_count": null,
   "id": "bb1a2b7d",
   "metadata": {},
   "outputs": [],
   "source": [
    "!zip data/stormwater-data.zip data/stormwater-data.gpkg"
   ]
  },
  {
   "cell_type": "code",
   "execution_count": null,
   "id": "1981f60c",
   "metadata": {},
   "outputs": [],
   "source": [
    "ls data/"
   ]
  },
  {
   "cell_type": "code",
   "execution_count": null,
   "id": "09e0c1fb",
   "metadata": {},
   "outputs": [],
   "source": [
    "!rm data/stormwater-data.gpkg"
   ]
  },
  {
   "cell_type": "code",
   "execution_count": null,
   "id": "736260c9",
   "metadata": {},
   "outputs": [],
   "source": [
    "ls data/"
   ]
  },
  {
   "cell_type": "code",
   "execution_count": null,
   "id": "00cdb8be",
   "metadata": {},
   "outputs": [],
   "source": []
  }
 ],
 "metadata": {
  "kernelspec": {
   "display_name": "Python 3 (ipykernel)",
   "language": "python",
   "name": "python3"
  },
  "language_info": {
   "codemirror_mode": {
    "name": "ipython",
    "version": 3
   },
   "file_extension": ".py",
   "mimetype": "text/x-python",
   "name": "python",
   "nbconvert_exporter": "python",
   "pygments_lexer": "ipython3",
   "version": "3.8.13"
  }
 },
 "nbformat": 4,
 "nbformat_minor": 5
}
