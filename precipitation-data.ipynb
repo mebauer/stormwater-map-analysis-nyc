{
 "cells": [
  {
   "cell_type": "markdown",
   "id": "understanding-hierarchy",
   "metadata": {},
   "source": [
    "# Analyzing NYC's Stormwater Flood Map - Extreme Flood Scenario\n",
    "## Objective: Retrieve Hourly and Daily Precipitaton Data\n",
    "\n",
    "Mark Bauer"
   ]
  },
  {
   "cell_type": "code",
   "execution_count": 1,
   "id": "ahead-burlington",
   "metadata": {},
   "outputs": [],
   "source": [
    "import numpy as np\n",
    "import pandas as pd\n",
    "import geopandas as gpd\n",
    "import seaborn as sns\n",
    "import matplotlib.pyplot as plt\n",
    "import urllib.request\n",
    "\n",
    "plt.rcParams['savefig.facecolor'] = 'white'\n",
    "%matplotlib inline"
   ]
  },
  {
   "cell_type": "code",
   "execution_count": 2,
   "id": "medium-german",
   "metadata": {},
   "outputs": [
    {
     "name": "stdout",
     "output_type": "stream",
     "text": [
      "Python implementation: CPython\n",
      "Python version       : 3.8.13\n",
      "IPython version      : 8.4.0\n",
      "\n",
      "numpy     : 1.22.4\n",
      "pandas    : 1.4.2\n",
      "seaborn   : 0.11.2\n",
      "matplotlib: 3.5.2\n",
      "geopandas : 0.9.0\n",
      "\n"
     ]
    }
   ],
   "source": [
    "%reload_ext watermark\n",
    "%watermark -v -p numpy,pandas,seaborn,matplotlib,geopandas"
   ]
  },
  {
   "cell_type": "markdown",
   "id": "43ff99a8",
   "metadata": {},
   "source": [
    "# 1) Hourly Precipitation Data"
   ]
  },
  {
   "cell_type": "markdown",
   "id": "db93b691",
   "metadata": {},
   "source": [
    "##  ASOS Data Download from Iowa Environmental Mesonet (IEM)\n",
    "\n",
    "Source: https://mesonet.agron.iastate.edu/request/download.phtml?network=NY_ASOS#"
   ]
  },
  {
   "cell_type": "markdown",
   "id": "e46c69f0",
   "metadata": {},
   "source": [
    "![iem-cover-photo](images/iem-cover-photo.png)\n",
    "\n",
    "Screenshot of ASOS Data Download.  "
   ]
  },
  {
   "cell_type": "markdown",
   "id": "3bcbb749",
   "metadata": {},
   "source": [
    "![asos-data-dictionary](images/asos-data-dictionary.png)\n",
    "\n",
    "Screenshot of ASOS Data Dictionary."
   ]
  },
  {
   "cell_type": "markdown",
   "id": "f93c5bdc",
   "metadata": {},
   "source": [
    "The url below was generated from the website above. Note: data retrieved is in millimeters (mm)."
   ]
  },
  {
   "cell_type": "code",
   "execution_count": 3,
   "id": "474fb94e",
   "metadata": {},
   "outputs": [
    {
     "name": "stdout",
     "output_type": "stream",
     "text": [
      "shape of data: (309041, 5)\n"
     ]
    },
    {
     "data": {
      "text/html": [
       "<div>\n",
       "<style scoped>\n",
       "    .dataframe tbody tr th:only-of-type {\n",
       "        vertical-align: middle;\n",
       "    }\n",
       "\n",
       "    .dataframe tbody tr th {\n",
       "        vertical-align: top;\n",
       "    }\n",
       "\n",
       "    .dataframe thead th {\n",
       "        text-align: right;\n",
       "    }\n",
       "</style>\n",
       "<table border=\"1\" class=\"dataframe\">\n",
       "  <thead>\n",
       "    <tr style=\"text-align: right;\">\n",
       "      <th></th>\n",
       "      <th>station</th>\n",
       "      <th>valid</th>\n",
       "      <th>lon</th>\n",
       "      <th>lat</th>\n",
       "      <th>p01m</th>\n",
       "    </tr>\n",
       "  </thead>\n",
       "  <tbody>\n",
       "    <tr>\n",
       "      <th>0</th>\n",
       "      <td>NYC</td>\n",
       "      <td>1943-12-01 05:00</td>\n",
       "      <td>-73.9693</td>\n",
       "      <td>40.779</td>\n",
       "      <td>NaN</td>\n",
       "    </tr>\n",
       "    <tr>\n",
       "      <th>1</th>\n",
       "      <td>NYC</td>\n",
       "      <td>1943-12-01 06:00</td>\n",
       "      <td>-73.9693</td>\n",
       "      <td>40.779</td>\n",
       "      <td>NaN</td>\n",
       "    </tr>\n",
       "    <tr>\n",
       "      <th>2</th>\n",
       "      <td>NYC</td>\n",
       "      <td>1943-12-01 07:00</td>\n",
       "      <td>-73.9693</td>\n",
       "      <td>40.779</td>\n",
       "      <td>NaN</td>\n",
       "    </tr>\n",
       "    <tr>\n",
       "      <th>3</th>\n",
       "      <td>NYC</td>\n",
       "      <td>1943-12-01 08:00</td>\n",
       "      <td>-73.9693</td>\n",
       "      <td>40.779</td>\n",
       "      <td>NaN</td>\n",
       "    </tr>\n",
       "    <tr>\n",
       "      <th>4</th>\n",
       "      <td>NYC</td>\n",
       "      <td>1943-12-01 09:00</td>\n",
       "      <td>-73.9693</td>\n",
       "      <td>40.779</td>\n",
       "      <td>NaN</td>\n",
       "    </tr>\n",
       "  </tbody>\n",
       "</table>\n",
       "</div>"
      ],
      "text/plain": [
       "  station             valid      lon     lat  p01m\n",
       "0     NYC  1943-12-01 05:00 -73.9693  40.779   NaN\n",
       "1     NYC  1943-12-01 06:00 -73.9693  40.779   NaN\n",
       "2     NYC  1943-12-01 07:00 -73.9693  40.779   NaN\n",
       "3     NYC  1943-12-01 08:00 -73.9693  40.779   NaN\n",
       "4     NYC  1943-12-01 09:00 -73.9693  40.779   NaN"
      ]
     },
     "execution_count": 3,
     "metadata": {},
     "output_type": "execute_result"
    }
   ],
   "source": [
    "# url of data, this was performed manually by me\n",
    "url = 'https://mesonet.agron.iastate.edu/cgi-bin/request/asos.py?\\\n",
    "station=NYC&data=p01m&year1=1928&month1=1&day1=1&year2=2023&month2=10&day2=9&tz=Etc%2FUTC\\\n",
    "&format=onlycomma&latlon=yes&elev=no&missing=empty&trace=null&direct=no&report_type=3'\n",
    "\n",
    "df = pd.read_csv(url)\n",
    "print('shape of data: {}'.format(df.shape))\n",
    "\n",
    "# preview data\n",
    "df.head()"
   ]
  },
  {
   "cell_type": "code",
   "execution_count": 4,
   "id": "835179d2",
   "metadata": {},
   "outputs": [
    {
     "name": "stdout",
     "output_type": "stream",
     "text": [
      "<class 'pandas.core.frame.DataFrame'>\n",
      "RangeIndex: 309041 entries, 0 to 309040\n",
      "Data columns (total 5 columns):\n",
      " #   Column   Non-Null Count   Dtype  \n",
      "---  ------   --------------   -----  \n",
      " 0   station  309041 non-null  object \n",
      " 1   valid    309041 non-null  object \n",
      " 2   lon      309041 non-null  float64\n",
      " 3   lat      309041 non-null  float64\n",
      " 4   p01m     112502 non-null  float64\n",
      "dtypes: float64(3), object(2)\n",
      "memory usage: 11.8+ MB\n"
     ]
    }
   ],
   "source": [
    "# review column nulls and dtypes\n",
    "df.info()"
   ]
  },
  {
   "cell_type": "code",
   "execution_count": 5,
   "id": "f8b63985",
   "metadata": {},
   "outputs": [
    {
     "data": {
      "text/html": [
       "<div>\n",
       "<style scoped>\n",
       "    .dataframe tbody tr th:only-of-type {\n",
       "        vertical-align: middle;\n",
       "    }\n",
       "\n",
       "    .dataframe tbody tr th {\n",
       "        vertical-align: top;\n",
       "    }\n",
       "\n",
       "    .dataframe thead th {\n",
       "        text-align: right;\n",
       "    }\n",
       "</style>\n",
       "<table border=\"1\" class=\"dataframe\">\n",
       "  <thead>\n",
       "    <tr style=\"text-align: right;\">\n",
       "      <th></th>\n",
       "      <th>station</th>\n",
       "      <th>valid</th>\n",
       "      <th>lon</th>\n",
       "      <th>lat</th>\n",
       "      <th>p01mm</th>\n",
       "      <th>datetime</th>\n",
       "      <th>p01in</th>\n",
       "    </tr>\n",
       "  </thead>\n",
       "  <tbody>\n",
       "    <tr>\n",
       "      <th>0</th>\n",
       "      <td>NYC</td>\n",
       "      <td>1943-12-01 05:00</td>\n",
       "      <td>-73.9693</td>\n",
       "      <td>40.779</td>\n",
       "      <td>NaN</td>\n",
       "      <td>1943-12-01 05:00:00</td>\n",
       "      <td>NaN</td>\n",
       "    </tr>\n",
       "    <tr>\n",
       "      <th>1</th>\n",
       "      <td>NYC</td>\n",
       "      <td>1943-12-01 06:00</td>\n",
       "      <td>-73.9693</td>\n",
       "      <td>40.779</td>\n",
       "      <td>NaN</td>\n",
       "      <td>1943-12-01 06:00:00</td>\n",
       "      <td>NaN</td>\n",
       "    </tr>\n",
       "    <tr>\n",
       "      <th>2</th>\n",
       "      <td>NYC</td>\n",
       "      <td>1943-12-01 07:00</td>\n",
       "      <td>-73.9693</td>\n",
       "      <td>40.779</td>\n",
       "      <td>NaN</td>\n",
       "      <td>1943-12-01 07:00:00</td>\n",
       "      <td>NaN</td>\n",
       "    </tr>\n",
       "    <tr>\n",
       "      <th>3</th>\n",
       "      <td>NYC</td>\n",
       "      <td>1943-12-01 08:00</td>\n",
       "      <td>-73.9693</td>\n",
       "      <td>40.779</td>\n",
       "      <td>NaN</td>\n",
       "      <td>1943-12-01 08:00:00</td>\n",
       "      <td>NaN</td>\n",
       "    </tr>\n",
       "    <tr>\n",
       "      <th>4</th>\n",
       "      <td>NYC</td>\n",
       "      <td>1943-12-01 09:00</td>\n",
       "      <td>-73.9693</td>\n",
       "      <td>40.779</td>\n",
       "      <td>NaN</td>\n",
       "      <td>1943-12-01 09:00:00</td>\n",
       "      <td>NaN</td>\n",
       "    </tr>\n",
       "  </tbody>\n",
       "</table>\n",
       "</div>"
      ],
      "text/plain": [
       "  station             valid      lon     lat  p01mm            datetime  p01in\n",
       "0     NYC  1943-12-01 05:00 -73.9693  40.779    NaN 1943-12-01 05:00:00    NaN\n",
       "1     NYC  1943-12-01 06:00 -73.9693  40.779    NaN 1943-12-01 06:00:00    NaN\n",
       "2     NYC  1943-12-01 07:00 -73.9693  40.779    NaN 1943-12-01 07:00:00    NaN\n",
       "3     NYC  1943-12-01 08:00 -73.9693  40.779    NaN 1943-12-01 08:00:00    NaN\n",
       "4     NYC  1943-12-01 09:00 -73.9693  40.779    NaN 1943-12-01 09:00:00    NaN"
      ]
     },
     "execution_count": 5,
     "metadata": {},
     "output_type": "execute_result"
    }
   ],
   "source": [
    "## to datetime\n",
    "df['datetime'] = pd.to_datetime(df['valid'])\n",
    "\n",
    "## mm to inches, rename mm column name\n",
    "df['p01in'] = round(df['p01m'] / 25.4, 4)\n",
    "df = df.rename(columns={'p01m':\"p01mm\"})\n",
    "\n",
    "# preview data\n",
    "df.head()"
   ]
  },
  {
   "cell_type": "code",
   "execution_count": 6,
   "id": "bb37730f",
   "metadata": {},
   "outputs": [
    {
     "name": "stdout",
     "output_type": "stream",
     "text": [
      "<class 'pandas.core.frame.DataFrame'>\n",
      "RangeIndex: 309041 entries, 0 to 309040\n",
      "Data columns (total 7 columns):\n",
      " #   Column    Non-Null Count   Dtype         \n",
      "---  ------    --------------   -----         \n",
      " 0   station   309041 non-null  object        \n",
      " 1   valid     309041 non-null  object        \n",
      " 2   lon       309041 non-null  float64       \n",
      " 3   lat       309041 non-null  float64       \n",
      " 4   p01mm     112502 non-null  float64       \n",
      " 5   datetime  309041 non-null  datetime64[ns]\n",
      " 6   p01in     112502 non-null  float64       \n",
      "dtypes: datetime64[ns](1), float64(4), object(2)\n",
      "memory usage: 16.5+ MB\n"
     ]
    }
   ],
   "source": [
    "# review column nulls and dtypes\n",
    "df.info()"
   ]
  },
  {
   "cell_type": "code",
   "execution_count": 7,
   "id": "00e0b5d9",
   "metadata": {},
   "outputs": [
    {
     "data": {
      "text/html": [
       "<div>\n",
       "<style scoped>\n",
       "    .dataframe tbody tr th:only-of-type {\n",
       "        vertical-align: middle;\n",
       "    }\n",
       "\n",
       "    .dataframe tbody tr th {\n",
       "        vertical-align: top;\n",
       "    }\n",
       "\n",
       "    .dataframe thead th {\n",
       "        text-align: right;\n",
       "    }\n",
       "</style>\n",
       "<table border=\"1\" class=\"dataframe\">\n",
       "  <thead>\n",
       "    <tr style=\"text-align: right;\">\n",
       "      <th></th>\n",
       "      <th>lon</th>\n",
       "      <th>lat</th>\n",
       "      <th>p01mm</th>\n",
       "      <th>p01in</th>\n",
       "    </tr>\n",
       "  </thead>\n",
       "  <tbody>\n",
       "    <tr>\n",
       "      <th>count</th>\n",
       "      <td>3.090410e+05</td>\n",
       "      <td>309041.000</td>\n",
       "      <td>112502.000000</td>\n",
       "      <td>112502.000000</td>\n",
       "    </tr>\n",
       "    <tr>\n",
       "      <th>mean</th>\n",
       "      <td>-7.396930e+01</td>\n",
       "      <td>40.779</td>\n",
       "      <td>0.349552</td>\n",
       "      <td>0.013760</td>\n",
       "    </tr>\n",
       "    <tr>\n",
       "      <th>std</th>\n",
       "      <td>2.842176e-14</td>\n",
       "      <td>0.000</td>\n",
       "      <td>1.499465</td>\n",
       "      <td>0.059034</td>\n",
       "    </tr>\n",
       "    <tr>\n",
       "      <th>min</th>\n",
       "      <td>-7.396930e+01</td>\n",
       "      <td>40.779</td>\n",
       "      <td>0.000000</td>\n",
       "      <td>0.000000</td>\n",
       "    </tr>\n",
       "    <tr>\n",
       "      <th>25%</th>\n",
       "      <td>-7.396930e+01</td>\n",
       "      <td>40.779</td>\n",
       "      <td>0.000000</td>\n",
       "      <td>0.000000</td>\n",
       "    </tr>\n",
       "    <tr>\n",
       "      <th>50%</th>\n",
       "      <td>-7.396930e+01</td>\n",
       "      <td>40.779</td>\n",
       "      <td>0.000000</td>\n",
       "      <td>0.000000</td>\n",
       "    </tr>\n",
       "    <tr>\n",
       "      <th>75%</th>\n",
       "      <td>-7.396930e+01</td>\n",
       "      <td>40.779</td>\n",
       "      <td>0.000000</td>\n",
       "      <td>0.000000</td>\n",
       "    </tr>\n",
       "    <tr>\n",
       "      <th>max</th>\n",
       "      <td>-7.396930e+01</td>\n",
       "      <td>40.779</td>\n",
       "      <td>80.010000</td>\n",
       "      <td>3.150000</td>\n",
       "    </tr>\n",
       "  </tbody>\n",
       "</table>\n",
       "</div>"
      ],
      "text/plain": [
       "                lon         lat          p01mm          p01in\n",
       "count  3.090410e+05  309041.000  112502.000000  112502.000000\n",
       "mean  -7.396930e+01      40.779       0.349552       0.013760\n",
       "std    2.842176e-14       0.000       1.499465       0.059034\n",
       "min   -7.396930e+01      40.779       0.000000       0.000000\n",
       "25%   -7.396930e+01      40.779       0.000000       0.000000\n",
       "50%   -7.396930e+01      40.779       0.000000       0.000000\n",
       "75%   -7.396930e+01      40.779       0.000000       0.000000\n",
       "max   -7.396930e+01      40.779      80.010000       3.150000"
      ]
     },
     "execution_count": 7,
     "metadata": {},
     "output_type": "execute_result"
    }
   ],
   "source": [
    "# review summary statistics\n",
    "df.describe()"
   ]
  },
  {
   "cell_type": "code",
   "execution_count": 8,
   "id": "f8bf3f85",
   "metadata": {},
   "outputs": [
    {
     "data": {
      "text/html": [
       "<div>\n",
       "<style scoped>\n",
       "    .dataframe tbody tr th:only-of-type {\n",
       "        vertical-align: middle;\n",
       "    }\n",
       "\n",
       "    .dataframe tbody tr th {\n",
       "        vertical-align: top;\n",
       "    }\n",
       "\n",
       "    .dataframe thead th {\n",
       "        text-align: right;\n",
       "    }\n",
       "</style>\n",
       "<table border=\"1\" class=\"dataframe\">\n",
       "  <thead>\n",
       "    <tr style=\"text-align: right;\">\n",
       "      <th></th>\n",
       "      <th>station</th>\n",
       "      <th>valid</th>\n",
       "      <th>lon</th>\n",
       "      <th>lat</th>\n",
       "      <th>p01mm</th>\n",
       "      <th>datetime</th>\n",
       "      <th>p01in</th>\n",
       "    </tr>\n",
       "  </thead>\n",
       "  <tbody>\n",
       "    <tr>\n",
       "      <th>5121</th>\n",
       "      <td>NYC</td>\n",
       "      <td>1965-01-02 18:00</td>\n",
       "      <td>-73.9693</td>\n",
       "      <td>40.779</td>\n",
       "      <td>0.51</td>\n",
       "      <td>1965-01-02 18:00:00</td>\n",
       "      <td>0.0201</td>\n",
       "    </tr>\n",
       "    <tr>\n",
       "      <th>5122</th>\n",
       "      <td>NYC</td>\n",
       "      <td>1965-01-02 21:00</td>\n",
       "      <td>-73.9693</td>\n",
       "      <td>40.779</td>\n",
       "      <td>1.27</td>\n",
       "      <td>1965-01-02 21:00:00</td>\n",
       "      <td>0.0500</td>\n",
       "    </tr>\n",
       "    <tr>\n",
       "      <th>5123</th>\n",
       "      <td>NYC</td>\n",
       "      <td>1965-01-03 00:00</td>\n",
       "      <td>-73.9693</td>\n",
       "      <td>40.779</td>\n",
       "      <td>1.27</td>\n",
       "      <td>1965-01-03 00:00:00</td>\n",
       "      <td>0.0500</td>\n",
       "    </tr>\n",
       "    <tr>\n",
       "      <th>5126</th>\n",
       "      <td>NYC</td>\n",
       "      <td>1965-01-03 09:00</td>\n",
       "      <td>-73.9693</td>\n",
       "      <td>40.779</td>\n",
       "      <td>0.25</td>\n",
       "      <td>1965-01-03 09:00:00</td>\n",
       "      <td>0.0098</td>\n",
       "    </tr>\n",
       "    <tr>\n",
       "      <th>5167</th>\n",
       "      <td>NYC</td>\n",
       "      <td>1965-01-08 12:00</td>\n",
       "      <td>-73.9693</td>\n",
       "      <td>40.779</td>\n",
       "      <td>2.03</td>\n",
       "      <td>1965-01-08 12:00:00</td>\n",
       "      <td>0.0799</td>\n",
       "    </tr>\n",
       "  </tbody>\n",
       "</table>\n",
       "</div>"
      ],
      "text/plain": [
       "     station             valid      lon     lat  p01mm            datetime  \\\n",
       "5121     NYC  1965-01-02 18:00 -73.9693  40.779   0.51 1965-01-02 18:00:00   \n",
       "5122     NYC  1965-01-02 21:00 -73.9693  40.779   1.27 1965-01-02 21:00:00   \n",
       "5123     NYC  1965-01-03 00:00 -73.9693  40.779   1.27 1965-01-03 00:00:00   \n",
       "5126     NYC  1965-01-03 09:00 -73.9693  40.779   0.25 1965-01-03 09:00:00   \n",
       "5167     NYC  1965-01-08 12:00 -73.9693  40.779   2.03 1965-01-08 12:00:00   \n",
       "\n",
       "       p01in  \n",
       "5121  0.0201  \n",
       "5122  0.0500  \n",
       "5123  0.0500  \n",
       "5126  0.0098  \n",
       "5167  0.0799  "
      ]
     },
     "execution_count": 8,
     "metadata": {},
     "output_type": "execute_result"
    }
   ],
   "source": [
    "# identify first non-null value by datetime\n",
    "(df\n",
    " .sort_values(by='valid')\n",
    " .loc[df['p01mm'].notnull()]\n",
    " .head()\n",
    ")"
   ]
  },
  {
   "cell_type": "code",
   "execution_count": 9,
   "id": "f44be104",
   "metadata": {},
   "outputs": [
    {
     "name": "stdout",
     "output_type": "stream",
     "text": [
      "new shape of data: (303920, 7)\n"
     ]
    },
    {
     "data": {
      "text/html": [
       "<div>\n",
       "<style scoped>\n",
       "    .dataframe tbody tr th:only-of-type {\n",
       "        vertical-align: middle;\n",
       "    }\n",
       "\n",
       "    .dataframe tbody tr th {\n",
       "        vertical-align: top;\n",
       "    }\n",
       "\n",
       "    .dataframe thead th {\n",
       "        text-align: right;\n",
       "    }\n",
       "</style>\n",
       "<table border=\"1\" class=\"dataframe\">\n",
       "  <thead>\n",
       "    <tr style=\"text-align: right;\">\n",
       "      <th></th>\n",
       "      <th>station</th>\n",
       "      <th>valid</th>\n",
       "      <th>lon</th>\n",
       "      <th>lat</th>\n",
       "      <th>p01mm</th>\n",
       "      <th>datetime</th>\n",
       "      <th>p01in</th>\n",
       "    </tr>\n",
       "  </thead>\n",
       "  <tbody>\n",
       "    <tr>\n",
       "      <th>0</th>\n",
       "      <td>NYC</td>\n",
       "      <td>1965-01-02 18:00</td>\n",
       "      <td>-73.9693</td>\n",
       "      <td>40.779</td>\n",
       "      <td>0.51</td>\n",
       "      <td>1965-01-02 18:00:00</td>\n",
       "      <td>0.0201</td>\n",
       "    </tr>\n",
       "    <tr>\n",
       "      <th>1</th>\n",
       "      <td>NYC</td>\n",
       "      <td>1965-01-02 21:00</td>\n",
       "      <td>-73.9693</td>\n",
       "      <td>40.779</td>\n",
       "      <td>1.27</td>\n",
       "      <td>1965-01-02 21:00:00</td>\n",
       "      <td>0.0500</td>\n",
       "    </tr>\n",
       "    <tr>\n",
       "      <th>2</th>\n",
       "      <td>NYC</td>\n",
       "      <td>1965-01-03 00:00</td>\n",
       "      <td>-73.9693</td>\n",
       "      <td>40.779</td>\n",
       "      <td>1.27</td>\n",
       "      <td>1965-01-03 00:00:00</td>\n",
       "      <td>0.0500</td>\n",
       "    </tr>\n",
       "    <tr>\n",
       "      <th>3</th>\n",
       "      <td>NYC</td>\n",
       "      <td>1965-01-03 03:00</td>\n",
       "      <td>-73.9693</td>\n",
       "      <td>40.779</td>\n",
       "      <td>NaN</td>\n",
       "      <td>1965-01-03 03:00:00</td>\n",
       "      <td>NaN</td>\n",
       "    </tr>\n",
       "    <tr>\n",
       "      <th>4</th>\n",
       "      <td>NYC</td>\n",
       "      <td>1965-01-03 06:00</td>\n",
       "      <td>-73.9693</td>\n",
       "      <td>40.779</td>\n",
       "      <td>NaN</td>\n",
       "      <td>1965-01-03 06:00:00</td>\n",
       "      <td>NaN</td>\n",
       "    </tr>\n",
       "  </tbody>\n",
       "</table>\n",
       "</div>"
      ],
      "text/plain": [
       "  station             valid      lon     lat  p01mm            datetime  \\\n",
       "0     NYC  1965-01-02 18:00 -73.9693  40.779   0.51 1965-01-02 18:00:00   \n",
       "1     NYC  1965-01-02 21:00 -73.9693  40.779   1.27 1965-01-02 21:00:00   \n",
       "2     NYC  1965-01-03 00:00 -73.9693  40.779   1.27 1965-01-03 00:00:00   \n",
       "3     NYC  1965-01-03 03:00 -73.9693  40.779    NaN 1965-01-03 03:00:00   \n",
       "4     NYC  1965-01-03 06:00 -73.9693  40.779    NaN 1965-01-03 06:00:00   \n",
       "\n",
       "    p01in  \n",
       "0  0.0201  \n",
       "1  0.0500  \n",
       "2  0.0500  \n",
       "3     NaN  \n",
       "4     NaN  "
      ]
     },
     "execution_count": 9,
     "metadata": {},
     "output_type": "execute_result"
    }
   ],
   "source": [
    "# retrieving data starting at first observation that's non-null\n",
    "start = (\n",
    "    df\n",
    "    .sort_values(by='valid')\n",
    "    .loc[df['p01mm'].notnull()]\n",
    "    .head(1)\n",
    "    .index[0]\n",
    ")\n",
    "\n",
    "df = (\n",
    "    df\n",
    "    .iloc[start:]\n",
    "    .reset_index(drop=True)\n",
    ")\n",
    "\n",
    "print('new shape of data: {}'.format(df.shape))\n",
    "df.head()"
   ]
  },
  {
   "cell_type": "code",
   "execution_count": 10,
   "id": "a6241fec",
   "metadata": {},
   "outputs": [
    {
     "name": "stdout",
     "output_type": "stream",
     "text": [
      "datetime bounds of analysis:\n",
      "\n",
      "date min: 1965-01-02 18:00:00\n",
      "date max: 2023-10-08 23:51:00\n"
     ]
    }
   ],
   "source": [
    "print('datetime bounds of analysis:\\n')\n",
    "print('date min: {}'.format(df['datetime'].min()))\n",
    "print('date max: {}'.format(df['datetime'].max()))"
   ]
  },
  {
   "cell_type": "code",
   "execution_count": 11,
   "id": "885644b9",
   "metadata": {},
   "outputs": [],
   "source": [
    "# reaaranging columns and writing out file\n",
    "\n",
    "cols = [\n",
    "    'station',\n",
    "    'valid',\n",
    "    'datetime',\n",
    "    'lon',\n",
    "    'lat',\n",
    "    'p01mm',\n",
    "    'p01in'\n",
    "]\n",
    "\n",
    "(df\n",
    " .loc[:, cols]\n",
    " .to_csv('data/hourly-precipitation.csv', index=False)\n",
    ")"
   ]
  },
  {
   "cell_type": "markdown",
   "id": "85155a88",
   "metadata": {},
   "source": [
    "# Analysis of extreme rainfall\n",
    "\n",
    ">The standard design criterion in New York City is to use the\n",
    ">intensity-duration values based on a storm with a 5-year return\n",
    ">period (e.g., 1.75 inches per hour for a one hour storm; 20 percent\n",
    ">chance of occurrence in any given year) to calculate how large the\n",
    ">sewer pipes need to be sized to appropriately manage stormwater.\n",
    ">Certain older areas of the City are designed to a 3-year storm\n",
    ">event. The sewer design flow is then determined by application\n",
    ">of an equation using a runoff coefficient, a rainfall intensity\n",
    ">determined from an equation derived from the IDF analysis, and\n",
    ">the contributory drainage area. The design of combined sewers\n",
    ">includes allowance for the sanitary flows. The IDF curve currently\n",
    ">used by New York City is based on historical data from 1903-1951.\n",
    ">With climate change, the intensity and duration of a storm with a\n",
    ">5-year return period is likely to increase, and therefore the current\n",
    ">curve may not be adequate for designing infrastructure that is to\n",
    ">last decades.\n",
    "\n",
    "Source: https://www.nyc.gov/assets/orr/pdf/publications/stormwater-resiliency-plan.pdf"
   ]
  },
  {
   "cell_type": "code",
   "execution_count": 12,
   "id": "c5afcf2c",
   "metadata": {
    "scrolled": true
   },
   "outputs": [
    {
     "data": {
      "text/html": [
       "<div>\n",
       "<style scoped>\n",
       "    .dataframe tbody tr th:only-of-type {\n",
       "        vertical-align: middle;\n",
       "    }\n",
       "\n",
       "    .dataframe tbody tr th {\n",
       "        vertical-align: top;\n",
       "    }\n",
       "\n",
       "    .dataframe thead th {\n",
       "        text-align: right;\n",
       "    }\n",
       "</style>\n",
       "<table border=\"1\" class=\"dataframe\">\n",
       "  <thead>\n",
       "    <tr style=\"text-align: right;\">\n",
       "      <th></th>\n",
       "      <th>station</th>\n",
       "      <th>valid</th>\n",
       "      <th>lon</th>\n",
       "      <th>lat</th>\n",
       "      <th>p01mm</th>\n",
       "      <th>datetime</th>\n",
       "      <th>p01in</th>\n",
       "    </tr>\n",
       "  </thead>\n",
       "  <tbody>\n",
       "    <tr>\n",
       "      <th>138032</th>\n",
       "      <td>NYC</td>\n",
       "      <td>2004-09-08 11:51</td>\n",
       "      <td>-73.9693</td>\n",
       "      <td>40.779</td>\n",
       "      <td>44.70</td>\n",
       "      <td>2004-09-08 11:51:00</td>\n",
       "      <td>1.7598</td>\n",
       "    </tr>\n",
       "    <tr>\n",
       "      <th>285345</th>\n",
       "      <td>NYC</td>\n",
       "      <td>2021-08-22 03:51</td>\n",
       "      <td>-73.9693</td>\n",
       "      <td>40.779</td>\n",
       "      <td>49.28</td>\n",
       "      <td>2021-08-22 03:51:00</td>\n",
       "      <td>1.9402</td>\n",
       "    </tr>\n",
       "    <tr>\n",
       "      <th>285607</th>\n",
       "      <td>NYC</td>\n",
       "      <td>2021-09-02 01:51</td>\n",
       "      <td>-73.9693</td>\n",
       "      <td>40.779</td>\n",
       "      <td>80.01</td>\n",
       "      <td>2021-09-02 01:51:00</td>\n",
       "      <td>3.1500</td>\n",
       "    </tr>\n",
       "    <tr>\n",
       "      <th>303694</th>\n",
       "      <td>NYC</td>\n",
       "      <td>2023-09-29 13:51</td>\n",
       "      <td>-73.9693</td>\n",
       "      <td>40.779</td>\n",
       "      <td>49.78</td>\n",
       "      <td>2023-09-29 13:51:00</td>\n",
       "      <td>1.9598</td>\n",
       "    </tr>\n",
       "  </tbody>\n",
       "</table>\n",
       "</div>"
      ],
      "text/plain": [
       "       station             valid      lon     lat  p01mm            datetime  \\\n",
       "138032     NYC  2004-09-08 11:51 -73.9693  40.779  44.70 2004-09-08 11:51:00   \n",
       "285345     NYC  2021-08-22 03:51 -73.9693  40.779  49.28 2021-08-22 03:51:00   \n",
       "285607     NYC  2021-09-02 01:51 -73.9693  40.779  80.01 2021-09-02 01:51:00   \n",
       "303694     NYC  2023-09-29 13:51 -73.9693  40.779  49.78 2023-09-29 13:51:00   \n",
       "\n",
       "         p01in  \n",
       "138032  1.7598  \n",
       "285345  1.9402  \n",
       "285607  3.1500  \n",
       "303694  1.9598  "
      ]
     },
     "execution_count": 12,
     "metadata": {},
     "output_type": "execute_result"
    }
   ],
   "source": [
    "# dataframe of hourly precipitation >= 1.75\n",
    "df.loc[df['p01in'] >= 1.75]"
   ]
  },
  {
   "cell_type": "code",
   "execution_count": 13,
   "id": "ac7ee0bc",
   "metadata": {},
   "outputs": [
    {
     "name": "stdout",
     "output_type": "stream",
     "text": [
      "Number of hourly observations with >= 1.75 inches of precipitation: 4\n"
     ]
    }
   ],
   "source": [
    "counts = (\n",
    "    df\n",
    "    .loc[df['p01in'] >= 1.75]\n",
    "    .shape[0]\n",
    ")\n",
    "\n",
    "print('Number of hourly observations with >= 1.75 inches of precipitation: {}'.format(counts))"
   ]
  },
  {
   "cell_type": "code",
   "execution_count": 14,
   "id": "18db2ce0",
   "metadata": {},
   "outputs": [
    {
     "name": "stdout",
     "output_type": "stream",
     "text": [
      "                  inches\n",
      "date                    \n",
      "2021-09-02 01:51  3.1500\n",
      "2023-09-29 13:51  1.9598\n",
      "2021-08-22 03:51  1.9402\n",
      "2004-09-08 11:51  1.7598\n"
     ]
    }
   ],
   "source": [
    "# records in print view\n",
    "records = (\n",
    "    df\n",
    "    .loc[df['p01in'] >= 1.75, ['valid', 'p01in']]\n",
    "    .rename(columns={'valid':'date', 'p01in':'inches'})\n",
    "    .sort_values(by='inches', ascending=False)\n",
    "    .set_index('date')\n",
    ")\n",
    "\n",
    "print(records)"
   ]
  },
  {
   "cell_type": "markdown",
   "id": "037df053",
   "metadata": {},
   "source": [
    "**Table xx:** Hourly precipitation events of over 1.75 inches of rainfall at Central Park, NYC."
   ]
  },
  {
   "cell_type": "code",
   "execution_count": 15,
   "id": "c9f220a3",
   "metadata": {},
   "outputs": [
    {
     "name": "stdout",
     "output_type": "stream",
     "text": [
      "                  inches\n",
      "date                    \n",
      "2021-09-02 01:51  3.1500\n",
      "2023-09-29 13:51  1.9598\n",
      "2021-08-22 03:51  1.9402\n",
      "2004-09-08 11:51  1.7598\n",
      "2005-08-14 23:51  1.7000\n",
      "2007-08-08 10:51  1.7000\n",
      "2018-08-11 12:51  1.6598\n",
      "2020-08-12 20:51  1.6299\n",
      "1967-07-03 09:00  1.5799\n",
      "2006-08-10 23:51  1.5701\n",
      "2021-07-08 21:51  1.5598\n",
      "1973-08-02 15:00  1.5098\n",
      "2021-09-02 02:51  1.5000\n",
      "2010-10-01 09:51  1.4799\n",
      "2009-01-17 16:51  1.4299\n",
      "2009-01-17 23:51  1.4098\n",
      "2021-08-22 02:51  1.3799\n",
      "2021-07-12 06:51  1.3500\n",
      "2022-12-23 09:51  1.3299\n",
      "2009-01-17 21:51  1.3299\n"
     ]
    }
   ],
   "source": [
    "# top 20 hourly precipitation events\n",
    "records = (\n",
    "    df\n",
    "    .loc[:, ['valid', 'p01in']]\n",
    "    .rename(columns={'valid':'date', 'p01in':'inches'})\n",
    "    .sort_values(by='inches', ascending=False)\n",
    "    .set_index('date')\n",
    "    .head(20)\n",
    ")\n",
    "\n",
    "print(records)"
   ]
  },
  {
   "cell_type": "markdown",
   "id": "43704472",
   "metadata": {},
   "source": [
    "**Table xx:** Top 20 hourly precipitation events at Central Park, NYC."
   ]
  },
  {
   "cell_type": "code",
   "execution_count": 16,
   "id": "82c44d5c",
   "metadata": {},
   "outputs": [
    {
     "data": {
      "image/png": "[encoded data removed]",
      "text/plain": [
       "<Figure size 576x432 with 1 Axes>"
      ]
     },
     "metadata": {
      "needs_background": "light"
     },
     "output_type": "display_data"
    }
   ],
   "source": [
    "fig, ax = plt.subplots(figsize=(8, 6))\n",
    "\n",
    "sns.lineplot(\n",
    "    x=df['datetime'],\n",
    "    y=df['p01in'],\n",
    "    label='Precipitation'\n",
    ")\n",
    "\n",
    "plt.title(\n",
    "    'Hourly Precipitation in Central Park, NYC', \n",
    "    fontsize=12,\n",
    "    pad=10\n",
    ")\n",
    "\n",
    "plt.axhline(y=1.75, color='r',linestyle='--', label='1.75 inches')\n",
    "\n",
    "plt.legend(loc=2)\n",
    "plt.xlabel('Hourly Observations', fontsize=12)\n",
    "plt.ylabel('Precipitation (inches)', fontsize=12)\n",
    "plt.tight_layout()"
   ]
  },
  {
   "cell_type": "markdown",
   "id": "597efcb7",
   "metadata": {},
   "source": [
    "**Figure xx:** Hourly precipitation events in Central Park, NYC. The figure above looks a bit weird with big chunks of missing data. This is only to demonstrate the distribution of values and extreme values. There is a big gap in the hourly data from 1985 to 2000."
   ]
  },
  {
   "cell_type": "markdown",
   "id": "0d18e887",
   "metadata": {},
   "source": [
    "# 2) Daily Precipitation Data\n",
    "\n",
    "I used NOAA's NCEI Climate Data Online Daily Summaries."
   ]
  },
  {
   "cell_type": "markdown",
   "id": "cfe7a93f",
   "metadata": {},
   "source": [
    "## NCEI Climate Data Online's Daily Summaries, NY CITY CENTRAL PARK, NY US\n",
    "\n",
    "Source: https://www.ncei.noaa.gov/cdo-web/datasets/GHCND/stations/GHCND:USW00094728/detail"
   ]
  },
  {
   "cell_type": "markdown",
   "id": "63049aa4",
   "metadata": {},
   "source": [
    "![ncei-daily-summaries](images/ncei-daily-summaries.png)\n",
    "\n",
    "Screenshot of NCEI Climate Data Online's Daily Summaries."
   ]
  },
  {
   "cell_type": "code",
   "execution_count": 17,
   "id": "b3e5fd94",
   "metadata": {},
   "outputs": [
    {
     "name": "stdout",
     "output_type": "stream",
     "text": [
      "GHCND_documentation.pdf\r\n",
      "NYC Stormwater Flood Map - Extreme Flood with 2080 Sea Level Rise.xlsx\r\n"
     ]
    }
   ],
   "source": [
    "# download data dictionary using urllib package\n",
    "\n",
    "# url path from the web\n",
    "url = 'https://www.ncei.noaa.gov/pub/data/cdo/documentation/GHCND_documentation.pdf'\n",
    "file_name = 'documentation/GHCND_documentation.pdf'\n",
    "\n",
    "# assigning file name as 'GHCND_documentation.pdf'\n",
    "urllib.request.urlretrieve(url, file_name)\n",
    "\n",
    "# sanity check of data\n",
    "%ls documentation/"
   ]
  },
  {
   "cell_type": "code",
   "execution_count": 18,
   "id": "6154388b",
   "metadata": {},
   "outputs": [
    {
     "name": "stdout",
     "output_type": "stream",
     "text": [
      "shape of data: (56535, 9)\n"
     ]
    },
    {
     "data": {
      "text/html": [
       "<div>\n",
       "<style scoped>\n",
       "    .dataframe tbody tr th:only-of-type {\n",
       "        vertical-align: middle;\n",
       "    }\n",
       "\n",
       "    .dataframe tbody tr th {\n",
       "        vertical-align: top;\n",
       "    }\n",
       "\n",
       "    .dataframe thead th {\n",
       "        text-align: right;\n",
       "    }\n",
       "</style>\n",
       "<table border=\"1\" class=\"dataframe\">\n",
       "  <thead>\n",
       "    <tr style=\"text-align: right;\">\n",
       "      <th></th>\n",
       "      <th>STATION</th>\n",
       "      <th>NAME</th>\n",
       "      <th>LATITUDE</th>\n",
       "      <th>LONGITUDE</th>\n",
       "      <th>ELEVATION</th>\n",
       "      <th>DATE</th>\n",
       "      <th>PRCP</th>\n",
       "      <th>PRCP_ATTRIBUTES</th>\n",
       "      <th>datetime</th>\n",
       "    </tr>\n",
       "  </thead>\n",
       "  <tbody>\n",
       "    <tr>\n",
       "      <th>0</th>\n",
       "      <td>USW00094728</td>\n",
       "      <td>NY CITY CENTRAL PARK, NY US</td>\n",
       "      <td>40.77898</td>\n",
       "      <td>-73.96925</td>\n",
       "      <td>42.7</td>\n",
       "      <td>1869-01-01</td>\n",
       "      <td>0.75</td>\n",
       "      <td>,,Z,</td>\n",
       "      <td>1869-01-01</td>\n",
       "    </tr>\n",
       "    <tr>\n",
       "      <th>1</th>\n",
       "      <td>USW00094728</td>\n",
       "      <td>NY CITY CENTRAL PARK, NY US</td>\n",
       "      <td>40.77898</td>\n",
       "      <td>-73.96925</td>\n",
       "      <td>42.7</td>\n",
       "      <td>1869-01-02</td>\n",
       "      <td>0.03</td>\n",
       "      <td>,,Z,null</td>\n",
       "      <td>1869-01-02</td>\n",
       "    </tr>\n",
       "    <tr>\n",
       "      <th>2</th>\n",
       "      <td>USW00094728</td>\n",
       "      <td>NY CITY CENTRAL PARK, NY US</td>\n",
       "      <td>40.77898</td>\n",
       "      <td>-73.96925</td>\n",
       "      <td>42.7</td>\n",
       "      <td>1869-01-03</td>\n",
       "      <td>0.00</td>\n",
       "      <td>T,,Z,null</td>\n",
       "      <td>1869-01-03</td>\n",
       "    </tr>\n",
       "    <tr>\n",
       "      <th>3</th>\n",
       "      <td>USW00094728</td>\n",
       "      <td>NY CITY CENTRAL PARK, NY US</td>\n",
       "      <td>40.77898</td>\n",
       "      <td>-73.96925</td>\n",
       "      <td>42.7</td>\n",
       "      <td>1869-01-04</td>\n",
       "      <td>0.18</td>\n",
       "      <td>,,Z,null</td>\n",
       "      <td>1869-01-04</td>\n",
       "    </tr>\n",
       "    <tr>\n",
       "      <th>4</th>\n",
       "      <td>USW00094728</td>\n",
       "      <td>NY CITY CENTRAL PARK, NY US</td>\n",
       "      <td>40.77898</td>\n",
       "      <td>-73.96925</td>\n",
       "      <td>42.7</td>\n",
       "      <td>1869-01-05</td>\n",
       "      <td>0.05</td>\n",
       "      <td>,,Z,null</td>\n",
       "      <td>1869-01-05</td>\n",
       "    </tr>\n",
       "  </tbody>\n",
       "</table>\n",
       "</div>"
      ],
      "text/plain": [
       "       STATION                         NAME  LATITUDE  LONGITUDE  ELEVATION  \\\n",
       "0  USW00094728  NY CITY CENTRAL PARK, NY US  40.77898  -73.96925       42.7   \n",
       "1  USW00094728  NY CITY CENTRAL PARK, NY US  40.77898  -73.96925       42.7   \n",
       "2  USW00094728  NY CITY CENTRAL PARK, NY US  40.77898  -73.96925       42.7   \n",
       "3  USW00094728  NY CITY CENTRAL PARK, NY US  40.77898  -73.96925       42.7   \n",
       "4  USW00094728  NY CITY CENTRAL PARK, NY US  40.77898  -73.96925       42.7   \n",
       "\n",
       "         DATE  PRCP PRCP_ATTRIBUTES   datetime  \n",
       "0  1869-01-01  0.75            ,,Z, 1869-01-01  \n",
       "1  1869-01-02  0.03        ,,Z,null 1869-01-02  \n",
       "2  1869-01-03  0.00       T,,Z,null 1869-01-03  \n",
       "3  1869-01-04  0.18        ,,Z,null 1869-01-04  \n",
       "4  1869-01-05  0.05        ,,Z,null 1869-01-05  "
      ]
     },
     "execution_count": 18,
     "metadata": {},
     "output_type": "execute_result"
    }
   ],
   "source": [
    "# download of data was performed manually by me from NCEI above\n",
    "df = pd.read_csv('data/daily-precipitation.csv')\n",
    "\n",
    "## to datetime\n",
    "df['datetime'] = pd.to_datetime(df['DATE'])\n",
    "\n",
    "# preview data\n",
    "print('shape of data: {}'.format(df.shape))\n",
    "df.head()"
   ]
  },
  {
   "cell_type": "code",
   "execution_count": 19,
   "id": "39e16706",
   "metadata": {},
   "outputs": [
    {
     "name": "stdout",
     "output_type": "stream",
     "text": [
      "datetime bounds of analysis:\n",
      "\n",
      "date min: 1869-01-01 00:00:00\n",
      "date max: 2023-10-15 00:00:00\n"
     ]
    }
   ],
   "source": [
    "print('datetime bounds of analysis:\\n')\n",
    "print('date min: {}'.format(df['datetime'].min()))\n",
    "print('date max: {}'.format(df['datetime'].max()))"
   ]
  },
  {
   "cell_type": "markdown",
   "id": "3213cc8d",
   "metadata": {},
   "source": [
    "## The number of days with extreme rainfall\n",
    "\n",
    ">Recent academic studies show that sub-daily rainfall intensity\n",
    ">may increase over the coming decades.<sup>5</sup> Since rainfall information\n",
    ">started being collected, the number of days with extreme rainfall\n",
    ">(defined as days of rainfall over 1.75 inches in Central Park) has\n",
    ">increased.<sup>6</sup>\n",
    "\n",
    "Source: https://www.nyc.gov/assets/orr/pdf/publications/stormwater-resiliency-plan.pdf"
   ]
  },
  {
   "cell_type": "code",
   "execution_count": 20,
   "id": "bd5b4a50",
   "metadata": {},
   "outputs": [
    {
     "name": "stdout",
     "output_type": "stream",
     "text": [
      "Total number of daily observations with >= 1.75 inches of precipitation: 545\n"
     ]
    }
   ],
   "source": [
    "counts = (\n",
    "    df\n",
    "    .loc[df['PRCP'] >= 1.75]\n",
    "    .shape[0]\n",
    ")\n",
    "\n",
    "print('Total number of daily observations with >= 1.75 inches of precipitation: {}'.format(counts))"
   ]
  },
  {
   "cell_type": "code",
   "execution_count": 21,
   "id": "a6e0fed5",
   "metadata": {},
   "outputs": [
    {
     "name": "stdout",
     "output_type": "stream",
     "text": [
      "            inches\n",
      "date              \n",
      "1882-09-23    8.28\n",
      "2007-04-15    7.57\n",
      "1977-11-08    7.40\n",
      "1903-10-09    7.33\n",
      "2021-09-01    7.13\n",
      "2011-08-14    5.81\n",
      "1972-11-08    5.60\n",
      "1966-09-21    5.54\n",
      "2023-09-29    5.48\n",
      "1999-09-16    5.02\n",
      "1913-10-01    4.98\n",
      "2014-04-30    4.97\n",
      "1934-09-08    4.86\n",
      "1909-08-16    4.80\n",
      "1873-08-20    4.80\n",
      "1990-08-10    4.64\n",
      "2021-08-21    4.45\n",
      "1996-10-19    4.35\n",
      "1983-04-10    4.31\n",
      "1903-10-08    4.30\n"
     ]
    }
   ],
   "source": [
    "# top 20 daily precipitation events\n",
    "records = (\n",
    "    df\n",
    "    .loc[:, ['datetime', 'PRCP']]\n",
    "    .rename(columns={'datetime':'date', 'PRCP':'inches'})\n",
    "    .sort_values(by='inches', ascending=False)\n",
    "    .set_index('date')\n",
    "    .head(20)\n",
    ")\n",
    "\n",
    "print(records)"
   ]
  },
  {
   "cell_type": "markdown",
   "id": "4eed626c",
   "metadata": {},
   "source": [
    "**Table xx:** Top 20 daily precipitation events at Central Park, NYC."
   ]
  },
  {
   "cell_type": "code",
   "execution_count": 22,
   "id": "738231b5",
   "metadata": {},
   "outputs": [
    {
     "data": {
      "image/png": "[encoded data removed]",
      "text/plain": [
       "<Figure size 576x432 with 1 Axes>"
      ]
     },
     "metadata": {
      "needs_background": "light"
     },
     "output_type": "display_data"
    }
   ],
   "source": [
    "fig, ax = plt.subplots(figsize=(8, 6))\n",
    "\n",
    "sns.lineplot(\n",
    "    x=df.set_index('datetime').index,\n",
    "    y=df['PRCP'],\n",
    "    label='Precipitation'\n",
    ")\n",
    "\n",
    "plt.title(\n",
    "    'Daily Precipitation in Central Park, NYC', \n",
    "    fontsize=12,\n",
    "    pad=10\n",
    ")\n",
    "\n",
    "plt.axhline(y=1.75, color='r', linestyle='--', label='1.75 inches')\n",
    "\n",
    "plt.legend(loc='upper center')\n",
    "plt.xlabel('Daily', fontsize=12)\n",
    "plt.ylabel('Precipitation (inches)', fontsize=12)\n",
    "plt.tight_layout()"
   ]
  },
  {
   "cell_type": "markdown",
   "id": "4c7fb6e1",
   "metadata": {},
   "source": [
    "**Figure xx:** Daily precipitation events in Central Park, NYC."
   ]
  },
  {
   "cell_type": "code",
   "execution_count": 23,
   "id": "2f302785",
   "metadata": {},
   "outputs": [
    {
     "data": {
      "text/html": [
       "<div>\n",
       "<style scoped>\n",
       "    .dataframe tbody tr th:only-of-type {\n",
       "        vertical-align: middle;\n",
       "    }\n",
       "\n",
       "    .dataframe tbody tr th {\n",
       "        vertical-align: top;\n",
       "    }\n",
       "\n",
       "    .dataframe thead th {\n",
       "        text-align: right;\n",
       "    }\n",
       "</style>\n",
       "<table border=\"1\" class=\"dataframe\">\n",
       "  <thead>\n",
       "    <tr style=\"text-align: right;\">\n",
       "      <th></th>\n",
       "      <th>bins</th>\n",
       "      <th>count_days</th>\n",
       "    </tr>\n",
       "  </thead>\n",
       "  <tbody>\n",
       "    <tr>\n",
       "      <th>0</th>\n",
       "      <td>(1870, 1880]</td>\n",
       "      <td>33</td>\n",
       "    </tr>\n",
       "    <tr>\n",
       "      <th>1</th>\n",
       "      <td>(1880, 1890]</td>\n",
       "      <td>30</td>\n",
       "    </tr>\n",
       "    <tr>\n",
       "      <th>2</th>\n",
       "      <td>(1890, 1900]</td>\n",
       "      <td>26</td>\n",
       "    </tr>\n",
       "    <tr>\n",
       "      <th>3</th>\n",
       "      <td>(1900, 1910]</td>\n",
       "      <td>41</td>\n",
       "    </tr>\n",
       "    <tr>\n",
       "      <th>4</th>\n",
       "      <td>(1910, 1920]</td>\n",
       "      <td>36</td>\n",
       "    </tr>\n",
       "    <tr>\n",
       "      <th>5</th>\n",
       "      <td>(1920, 1930]</td>\n",
       "      <td>27</td>\n",
       "    </tr>\n",
       "    <tr>\n",
       "      <th>6</th>\n",
       "      <td>(1930, 1940]</td>\n",
       "      <td>32</td>\n",
       "    </tr>\n",
       "    <tr>\n",
       "      <th>7</th>\n",
       "      <td>(1940, 1950]</td>\n",
       "      <td>21</td>\n",
       "    </tr>\n",
       "    <tr>\n",
       "      <th>8</th>\n",
       "      <td>(1950, 1960]</td>\n",
       "      <td>22</td>\n",
       "    </tr>\n",
       "    <tr>\n",
       "      <th>9</th>\n",
       "      <td>(1960, 1970]</td>\n",
       "      <td>25</td>\n",
       "    </tr>\n",
       "    <tr>\n",
       "      <th>10</th>\n",
       "      <td>(1970, 1980]</td>\n",
       "      <td>55</td>\n",
       "    </tr>\n",
       "    <tr>\n",
       "      <th>11</th>\n",
       "      <td>(1980, 1990]</td>\n",
       "      <td>50</td>\n",
       "    </tr>\n",
       "    <tr>\n",
       "      <th>12</th>\n",
       "      <td>(1990, 2000]</td>\n",
       "      <td>41</td>\n",
       "    </tr>\n",
       "    <tr>\n",
       "      <th>13</th>\n",
       "      <td>(2000, 2010]</td>\n",
       "      <td>46</td>\n",
       "    </tr>\n",
       "    <tr>\n",
       "      <th>14</th>\n",
       "      <td>(2010, 2020]</td>\n",
       "      <td>42</td>\n",
       "    </tr>\n",
       "  </tbody>\n",
       "</table>\n",
       "</div>"
      ],
      "text/plain": [
       "            bins  count_days\n",
       "0   (1870, 1880]          33\n",
       "1   (1880, 1890]          30\n",
       "2   (1890, 1900]          26\n",
       "3   (1900, 1910]          41\n",
       "4   (1910, 1920]          36\n",
       "5   (1920, 1930]          27\n",
       "6   (1930, 1940]          32\n",
       "7   (1940, 1950]          21\n",
       "8   (1950, 1960]          22\n",
       "9   (1960, 1970]          25\n",
       "10  (1970, 1980]          55\n",
       "11  (1980, 1990]          50\n",
       "12  (1990, 2000]          41\n",
       "13  (2000, 2010]          46\n",
       "14  (2010, 2020]          42"
      ]
     },
     "execution_count": 23,
     "metadata": {},
     "output_type": "execute_result"
    }
   ],
   "source": [
    "# assign flag to extreme days\n",
    "df.loc[df['PRCP'] >= 1.75, ['threshold']] = 1\n",
    "\n",
    "# count days and bin data by decade\n",
    "bins = [x for x in range(1860, 2040, 10)]\n",
    "df['bins'] = pd.cut(df['datetime'].dt.year, bins=bins)\n",
    "\n",
    "data = (\n",
    "    df\n",
    "    .groupby(by='bins')['threshold']\n",
    "    .sum()\n",
    "    .astype(int)\n",
    "    .rename('count_days')\n",
    "    .reset_index()\n",
    ")\n",
    "\n",
    "# clipping incomplete decades, remove from plot\n",
    "data = data.iloc[1:-1, :].reset_index(drop=True)\n",
    "data"
   ]
  },
  {
   "cell_type": "code",
   "execution_count": 24,
   "id": "680dce92",
   "metadata": {},
   "outputs": [
    {
     "data": {
      "image/png": "[encoded data removed]",
      "text/plain": [
       "<Figure size 576x432 with 1 Axes>"
      ]
     },
     "metadata": {
      "needs_background": "light"
     },
     "output_type": "display_data"
    }
   ],
   "source": [
    "fig, ax = plt.subplots(figsize=(8, 6))\n",
    "\n",
    "data.plot.bar(\n",
    "    x='bins',\n",
    "    y='count_days',\n",
    "    rot=45,\n",
    "    legend=None,\n",
    "    ax=ax \n",
    ")\n",
    "\n",
    "plt.title('Count of Days Greater Than or Equal to 1.75 Inches of Rainfall per Decade', fontsize=12)\n",
    "plt.xlabel('Decade', fontsize=12)\n",
    "plt.ylabel('Count of Days', fontsize=12)\n",
    "plt.tight_layout()\n",
    "plt.savefig('figures/precip-cover-photo.png', dpi=250, bbox_inches='tight')"
   ]
  },
  {
   "cell_type": "markdown",
   "id": "92388ddd",
   "metadata": {},
   "source": [
    "**Figure xx:** Count of days greater than or equal to 1.75 inches of rainfall per decade in Central Park, NYC."
   ]
  },
  {
   "cell_type": "markdown",
   "id": "efba7ed2",
   "metadata": {},
   "source": [
    "# 3) NOAA ATLAS 14 Point Precipitation Frequency Estimates\n",
    "\n",
    ">NOAA Atlas 14 estimates are used to design, plan, and manage\n",
    ">much of the Nation's infrastructure for a wide variety of purposes\n",
    ">under federal, state, and local regulations. NOAA Atlas 14\n",
    ">estimates replace estimates previously published by NOAA in\n",
    ">the early 1960s and '70s and cover a range of storm durations\n",
    ">from 5-minutes through 60-days, for average recurrence intervals\n",
    ">of 1-year through 1,000-year. Compared to previous volumes,\n",
    ">Atlas 14 estimates benefit from use of better-quality data (e.g.\n",
    ">precipitation stations with longer period of record, increased\n",
    ">station density, etc.), enhanced quality control methods,\n",
    ">consideration of uncertainties, and improved frequency analysis\n",
    ">and spatial interpolation methods that account for variation in\n",
    ">terrain, proximity to the coastline etc.\n",
    "\n",
    "Source: https://www.weather.gov/owp/hdsc"
   ]
  },
  {
   "cell_type": "markdown",
   "id": "c1374396",
   "metadata": {},
   "source": [
    "Atlas 14 is so influencial with the country's design standards, I figured I would add a section about it. The first set of screen shots are from NOAA's Atlas 14, and the last one is the flood scenarios from the NYC Stormwater Flood Maps. It's good to understand and communicate the relationship between duration (e.g. 60-min), average reoccurance interval (e.g. 100-year), precipitation levels and potential flood depths."
   ]
  },
  {
   "cell_type": "markdown",
   "id": "94c8c655",
   "metadata": {},
   "source": [
    "## Station Name: NY CITY CNTRL PARK\n",
    "Below are screenshots and data for Central Park, NYC."
   ]
  },
  {
   "cell_type": "markdown",
   "id": "705fff05",
   "metadata": {},
   "source": [
    "![atlas-14-cover](images/atlas-14-cover.png)\n",
    "\n",
    "Screenshot of the landing page. Central Park, NYC is marked by the large red \"X\".    \n",
    "Source: https://hdsc.nws.noaa.gov/pfds/pfds_map_cont.html?bkmrk=ny\n",
    "\n",
    "![frequency-table](images/frequency-table.png)\n",
    "\n",
    "Table caption from NOAA:  \n",
    ">Precipitation frequency (PF) estimates in this table are based on frequency analysis of partial duration \n",
    ">series (PDS). Numbers in parenthesis are PF estimates at lower and upper bounds of the 90% confidence interval.\n",
    ">The probability that precipitation frequency estimates (for a given duration and average recurrence interval)\n",
    ">will be greater than the upper bound (or less than the lower bound) is 5%.\n",
    ">Estimates at upper bounds are not checked against probable maximum precipitation (PMP) estimates and may be higher than currently valid PMP  values. Please refer to NOAA Atlas 14 document for more information.\n",
    "\n",
    "Source: https://hdsc.nws.noaa.gov/pfds/pfds_printpage.html?st=ny&sta=30-5801&data=depth&units=english&series=pds\n",
    "\n",
    "![ddf-curves](images/ddf-curves.png)\n",
    "\n",
    "NOAA's PDS-based Depth Duration Frequency (DDF) curves.  \n",
    "Source: https://hdsc.nws.noaa.gov/pfds/pfds_printpage.html?st=ny&sta=30-5801&data=depth&units=english&series=pds"
   ]
  },
  {
   "cell_type": "markdown",
   "id": "dfd37cb4",
   "metadata": {},
   "source": [
    "The flood scenarios for the NYC Stormwater Flood Maps are below. Things to note: extreme scenario consists of `Deep and Continous Flooding` depths of 1 ft. and greater, and `Sea Level Rise` heights of + 4.8 ft.\n",
    "\n",
    "![iem-cover-photo](images/flood-scenarios.png)\n",
    "  \n",
    "Source: https://experience.arcgis.com/experience/6f4cc60710dc433585790cd2b4b5dd0e"
   ]
  },
  {
   "cell_type": "code",
   "execution_count": null,
   "id": "5de45155",
   "metadata": {},
   "outputs": [],
   "source": []
  }
 ],
 "metadata": {
  "kernelspec": {
   "display_name": "Python 3 (ipykernel)",
   "language": "python",
   "name": "python3"
  },
  "language_info": {
   "codemirror_mode": {
    "name": "ipython",
    "version": 3
   },
   "file_extension": ".py",
   "mimetype": "text/x-python",
   "name": "python",
   "nbconvert_exporter": "python",
   "pygments_lexer": "ipython3",
   "version": "3.8.13"
  }
 },
 "nbformat": 4,
 "nbformat_minor": 5
}
